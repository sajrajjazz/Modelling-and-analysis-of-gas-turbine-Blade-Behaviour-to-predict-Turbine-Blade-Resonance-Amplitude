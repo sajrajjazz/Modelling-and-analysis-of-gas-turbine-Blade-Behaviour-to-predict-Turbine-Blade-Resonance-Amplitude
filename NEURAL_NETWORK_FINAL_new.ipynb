{
 "cells": [
  {
   "cell_type": "markdown",
   "metadata": {
    "colab_type": "text",
    "id": "NiPa3FYNJZzy"
   },
   "source": [
    "# Modelling & Analysis of Gas Turbine Blade Behavior to Predict Turbine Blade Resonance Amplitudes"
   ]
  },
  {
   "cell_type": "markdown",
   "metadata": {
    "colab_type": "text",
    "id": "NcMUy67AJZzz"
   },
   "source": [
    "# NEURAL NETWORK MODEL"
   ]
  },
  {
   "cell_type": "markdown",
   "metadata": {
    "colab_type": "text",
    "id": "GVtlCeB4JZz0"
   },
   "source": [
    "IMPORTING LIBRARIES"
   ]
  },
  {
   "cell_type": "code",
   "execution_count": 0,
   "metadata": {
    "colab": {},
    "colab_type": "code",
    "id": "KLppyXqjJZz1"
   },
   "outputs": [],
   "source": [
    "import tensorflow as tf\n",
    "import numpy as np\n",
    "import keras\n",
    "from keras.models import Sequential\n",
    "from keras.layers import Dense, Activation, Dropout, Flatten\n",
    "from sklearn.model_selection import cross_val_score\n",
    "from sklearn.metrics import mean_squared_error\n",
    "import pandas as pd\n",
    "import numpy as np\n",
    "import matplotlib.pyplot as plt\n",
    "import os\n",
    "import os.path as path\n",
    "\n",
    "from keras.optimizers import Adam\n",
    "from keras import backend as K"
   ]
  },
  {
   "cell_type": "markdown",
   "metadata": {
    "colab_type": "text",
    "id": "V4_XGwBoJZz8"
   },
   "source": [
    "MAKING A SESIION IN KERAS"
   ]
  },
  {
   "cell_type": "code",
   "execution_count": 0,
   "metadata": {
    "colab": {
     "base_uri": "https://localhost:8080/",
     "height": 34
    },
    "colab_type": "code",
    "id": "vebjUvIjJZz9",
    "outputId": "6fd5984d-0c98-4752-ba0b-16d4ed1d3a9c"
   },
   "outputs": [
    {
     "data": {
      "text/plain": [
       "<tensorflow.python.client.session.Session at 0x7f661b9659b0>"
      ]
     },
     "execution_count": 3,
     "metadata": {
      "tags": []
     },
     "output_type": "execute_result"
    }
   ],
   "source": [
    "config = tf.compat.v1.ConfigProto( device_count = {'GPU': 1})\n",
    "sess = tf.compat.v1.Session()\n",
    "tf.compat.v1.keras.backend.get_session(\n",
    "    op_input_list=()\n",
    ")"
   ]
  },
  {
   "cell_type": "markdown",
   "metadata": {
    "colab_type": "text",
    "id": "Gz2Z-LgmJZ0B"
   },
   "source": [
    "LOADING DATASETS"
   ]
  },
  {
   "cell_type": "code",
   "execution_count": 0,
   "metadata": {
    "colab": {
     "base_uri": "https://localhost:8080/",
     "height": 221
    },
    "colab_type": "code",
    "id": "qi99W0ElJZ0C",
    "outputId": "aaf6be85-9d73-4f2a-e0a4-2c461cb6d396"
   },
   "outputs": [
    {
     "name": "stdout",
     "output_type": "stream",
     "text": [
      "(143, 8)\n"
     ]
    },
    {
     "data": {
      "text/html": [
       "<div>\n",
       "<style scoped>\n",
       "    .dataframe tbody tr th:only-of-type {\n",
       "        vertical-align: middle;\n",
       "    }\n",
       "\n",
       "    .dataframe tbody tr th {\n",
       "        vertical-align: top;\n",
       "    }\n",
       "\n",
       "    .dataframe thead th {\n",
       "        text-align: right;\n",
       "    }\n",
       "</style>\n",
       "<table border=\"1\" class=\"dataframe\">\n",
       "  <thead>\n",
       "    <tr style=\"text-align: right;\">\n",
       "      <th></th>\n",
       "      <th>N</th>\n",
       "      <th>m</th>\n",
       "      <th>P1</th>\n",
       "      <th>T1</th>\n",
       "      <th>P3</th>\n",
       "      <th>T3</th>\n",
       "      <th>TJC</th>\n",
       "      <th>A</th>\n",
       "    </tr>\n",
       "  </thead>\n",
       "  <tbody>\n",
       "    <tr>\n",
       "      <th>61</th>\n",
       "      <td>94.8</td>\n",
       "      <td>75.3</td>\n",
       "      <td>13.2544</td>\n",
       "      <td>27.0</td>\n",
       "      <td>249.3</td>\n",
       "      <td>725.5</td>\n",
       "      <td>690.7</td>\n",
       "      <td>82.69</td>\n",
       "    </tr>\n",
       "    <tr>\n",
       "      <th>41</th>\n",
       "      <td>94.8</td>\n",
       "      <td>75.3</td>\n",
       "      <td>13.1168</td>\n",
       "      <td>27.0</td>\n",
       "      <td>211.6</td>\n",
       "      <td>725.5</td>\n",
       "      <td>690.7</td>\n",
       "      <td>33.08</td>\n",
       "    </tr>\n",
       "    <tr>\n",
       "      <th>109</th>\n",
       "      <td>98.6</td>\n",
       "      <td>75.3</td>\n",
       "      <td>13.1168</td>\n",
       "      <td>27.0</td>\n",
       "      <td>249.3</td>\n",
       "      <td>725.5</td>\n",
       "      <td>690.7</td>\n",
       "      <td>62.02</td>\n",
       "    </tr>\n",
       "    <tr>\n",
       "      <th>9</th>\n",
       "      <td>94.8</td>\n",
       "      <td>55.7</td>\n",
       "      <td>13.1168</td>\n",
       "      <td>27.0</td>\n",
       "      <td>211.6</td>\n",
       "      <td>725.5</td>\n",
       "      <td>690.7</td>\n",
       "      <td>16.54</td>\n",
       "    </tr>\n",
       "    <tr>\n",
       "      <th>42</th>\n",
       "      <td>94.8</td>\n",
       "      <td>75.3</td>\n",
       "      <td>13.1168</td>\n",
       "      <td>27.0</td>\n",
       "      <td>211.6</td>\n",
       "      <td>761.0</td>\n",
       "      <td>637.7</td>\n",
       "      <td>33.08</td>\n",
       "    </tr>\n",
       "  </tbody>\n",
       "</table>\n",
       "</div>"
      ],
      "text/plain": [
       "        N     m       P1    T1     P3     T3    TJC      A\n",
       "61   94.8  75.3  13.2544  27.0  249.3  725.5  690.7  82.69\n",
       "41   94.8  75.3  13.1168  27.0  211.6  725.5  690.7  33.08\n",
       "109  98.6  75.3  13.1168  27.0  249.3  725.5  690.7  62.02\n",
       "9    94.8  55.7  13.1168  27.0  211.6  725.5  690.7  16.54\n",
       "42   94.8  75.3  13.1168  27.0  211.6  761.0  637.7  33.08"
      ]
     },
     "execution_count": 17,
     "metadata": {
      "tags": []
     },
     "output_type": "execute_result"
    }
   ],
   "source": [
    "train = pd.read_csv(\"traindata.csv\")\n",
    "train=train.sample(frac=1)\n",
    "print(np.shape(train))\n",
    "train.head()"
   ]
  },
  {
   "cell_type": "markdown",
   "metadata": {
    "colab_type": "text",
    "id": "nCeUq0UBJZ0G"
   },
   "source": [
    "LOADING VALIDATION DATA"
   ]
  },
  {
   "cell_type": "code",
   "execution_count": 0,
   "metadata": {
    "colab": {
     "base_uri": "https://localhost:8080/",
     "height": 221
    },
    "colab_type": "code",
    "id": "fcl3921uJZ0H",
    "outputId": "bb98a754-76fe-4fcd-dc0a-175228c91fe8"
   },
   "outputs": [
    {
     "name": "stdout",
     "output_type": "stream",
     "text": [
      "(43, 8)\n"
     ]
    },
    {
     "data": {
      "text/html": [
       "<div>\n",
       "<style scoped>\n",
       "    .dataframe tbody tr th:only-of-type {\n",
       "        vertical-align: middle;\n",
       "    }\n",
       "\n",
       "    .dataframe tbody tr th {\n",
       "        vertical-align: top;\n",
       "    }\n",
       "\n",
       "    .dataframe thead th {\n",
       "        text-align: right;\n",
       "    }\n",
       "</style>\n",
       "<table border=\"1\" class=\"dataframe\">\n",
       "  <thead>\n",
       "    <tr style=\"text-align: right;\">\n",
       "      <th></th>\n",
       "      <th>N</th>\n",
       "      <th>m</th>\n",
       "      <th>P1</th>\n",
       "      <th>T1</th>\n",
       "      <th>P3</th>\n",
       "      <th>T3</th>\n",
       "      <th>TJC</th>\n",
       "      <th>A</th>\n",
       "    </tr>\n",
       "  </thead>\n",
       "  <tbody>\n",
       "    <tr>\n",
       "      <th>0</th>\n",
       "      <td>95.84</td>\n",
       "      <td>63.78</td>\n",
       "      <td>13.16</td>\n",
       "      <td>19.59</td>\n",
       "      <td>216.63</td>\n",
       "      <td>735.61</td>\n",
       "      <td>667.44</td>\n",
       "      <td>42.9156</td>\n",
       "    </tr>\n",
       "    <tr>\n",
       "      <th>1</th>\n",
       "      <td>97.47</td>\n",
       "      <td>56.41</td>\n",
       "      <td>13.13</td>\n",
       "      <td>22.03</td>\n",
       "      <td>236.53</td>\n",
       "      <td>759.09</td>\n",
       "      <td>683.22</td>\n",
       "      <td>45.2331</td>\n",
       "    </tr>\n",
       "    <tr>\n",
       "      <th>2</th>\n",
       "      <td>96.18</td>\n",
       "      <td>64.27</td>\n",
       "      <td>13.21</td>\n",
       "      <td>26.66</td>\n",
       "      <td>225.33</td>\n",
       "      <td>759.51</td>\n",
       "      <td>673.38</td>\n",
       "      <td>65.4893</td>\n",
       "    </tr>\n",
       "    <tr>\n",
       "      <th>3</th>\n",
       "      <td>95.90</td>\n",
       "      <td>62.89</td>\n",
       "      <td>13.21</td>\n",
       "      <td>25.73</td>\n",
       "      <td>227.34</td>\n",
       "      <td>732.96</td>\n",
       "      <td>673.73</td>\n",
       "      <td>60.4748</td>\n",
       "    </tr>\n",
       "    <tr>\n",
       "      <th>4</th>\n",
       "      <td>94.88</td>\n",
       "      <td>56.32</td>\n",
       "      <td>13.15</td>\n",
       "      <td>20.78</td>\n",
       "      <td>236.98</td>\n",
       "      <td>744.53</td>\n",
       "      <td>669.48</td>\n",
       "      <td>20.7956</td>\n",
       "    </tr>\n",
       "  </tbody>\n",
       "</table>\n",
       "</div>"
      ],
      "text/plain": [
       "       N      m     P1     T1      P3      T3     TJC        A\n",
       "0  95.84  63.78  13.16  19.59  216.63  735.61  667.44  42.9156\n",
       "1  97.47  56.41  13.13  22.03  236.53  759.09  683.22  45.2331\n",
       "2  96.18  64.27  13.21  26.66  225.33  759.51  673.38  65.4893\n",
       "3  95.90  62.89  13.21  25.73  227.34  732.96  673.73  60.4748\n",
       "4  94.88  56.32  13.15  20.78  236.98  744.53  669.48  20.7956"
      ]
     },
     "execution_count": 18,
     "metadata": {
      "tags": []
     },
     "output_type": "execute_result"
    }
   ],
   "source": [
    "validate = pd.read_csv(\"validatedata.csv\")\n",
    "#validate = validate.sample(frac=1)\n",
    "validate=validate.rename(columns={\"Amplitude (Max)\": \"A\"})\n",
    "print(np.shape(validate))\n",
    "validate.head()"
   ]
  },
  {
   "cell_type": "markdown",
   "metadata": {
    "colab_type": "text",
    "id": "VHOqhNU2JZ0L"
   },
   "source": [
    "APPENDING BOTH TRAINING AND VALIDATION DATASET"
   ]
  },
  {
   "cell_type": "code",
   "execution_count": 0,
   "metadata": {
    "colab": {
     "base_uri": "https://localhost:8080/",
     "height": 419
    },
    "colab_type": "code",
    "id": "Z9Cl6sAXJZ0M",
    "outputId": "1453f733-5ef1-4bed-944c-3daf4b020f13"
   },
   "outputs": [
    {
     "data": {
      "text/html": [
       "<div>\n",
       "<style scoped>\n",
       "    .dataframe tbody tr th:only-of-type {\n",
       "        vertical-align: middle;\n",
       "    }\n",
       "\n",
       "    .dataframe tbody tr th {\n",
       "        vertical-align: top;\n",
       "    }\n",
       "\n",
       "    .dataframe thead th {\n",
       "        text-align: right;\n",
       "    }\n",
       "</style>\n",
       "<table border=\"1\" class=\"dataframe\">\n",
       "  <thead>\n",
       "    <tr style=\"text-align: right;\">\n",
       "      <th></th>\n",
       "      <th>N</th>\n",
       "      <th>m</th>\n",
       "      <th>P1</th>\n",
       "      <th>T1</th>\n",
       "      <th>P3</th>\n",
       "      <th>T3</th>\n",
       "      <th>TJC</th>\n",
       "      <th>A</th>\n",
       "    </tr>\n",
       "  </thead>\n",
       "  <tbody>\n",
       "    <tr>\n",
       "      <th>0</th>\n",
       "      <td>94.80</td>\n",
       "      <td>75.30</td>\n",
       "      <td>13.2544</td>\n",
       "      <td>27.00</td>\n",
       "      <td>249.30</td>\n",
       "      <td>725.50</td>\n",
       "      <td>690.70</td>\n",
       "      <td>82.6900</td>\n",
       "    </tr>\n",
       "    <tr>\n",
       "      <th>1</th>\n",
       "      <td>94.80</td>\n",
       "      <td>75.30</td>\n",
       "      <td>13.1168</td>\n",
       "      <td>27.00</td>\n",
       "      <td>211.60</td>\n",
       "      <td>725.50</td>\n",
       "      <td>690.70</td>\n",
       "      <td>33.0800</td>\n",
       "    </tr>\n",
       "    <tr>\n",
       "      <th>2</th>\n",
       "      <td>98.60</td>\n",
       "      <td>75.30</td>\n",
       "      <td>13.1168</td>\n",
       "      <td>27.00</td>\n",
       "      <td>249.30</td>\n",
       "      <td>725.50</td>\n",
       "      <td>690.70</td>\n",
       "      <td>62.0200</td>\n",
       "    </tr>\n",
       "    <tr>\n",
       "      <th>3</th>\n",
       "      <td>94.80</td>\n",
       "      <td>55.70</td>\n",
       "      <td>13.1168</td>\n",
       "      <td>27.00</td>\n",
       "      <td>211.60</td>\n",
       "      <td>725.50</td>\n",
       "      <td>690.70</td>\n",
       "      <td>16.5400</td>\n",
       "    </tr>\n",
       "    <tr>\n",
       "      <th>4</th>\n",
       "      <td>94.80</td>\n",
       "      <td>75.30</td>\n",
       "      <td>13.1168</td>\n",
       "      <td>27.00</td>\n",
       "      <td>211.60</td>\n",
       "      <td>761.00</td>\n",
       "      <td>637.70</td>\n",
       "      <td>33.0800</td>\n",
       "    </tr>\n",
       "    <tr>\n",
       "      <th>...</th>\n",
       "      <td>...</td>\n",
       "      <td>...</td>\n",
       "      <td>...</td>\n",
       "      <td>...</td>\n",
       "      <td>...</td>\n",
       "      <td>...</td>\n",
       "      <td>...</td>\n",
       "      <td>...</td>\n",
       "    </tr>\n",
       "    <tr>\n",
       "      <th>181</th>\n",
       "      <td>95.44</td>\n",
       "      <td>72.47</td>\n",
       "      <td>13.2200</td>\n",
       "      <td>20.49</td>\n",
       "      <td>237.12</td>\n",
       "      <td>760.38</td>\n",
       "      <td>686.85</td>\n",
       "      <td>82.7935</td>\n",
       "    </tr>\n",
       "    <tr>\n",
       "      <th>182</th>\n",
       "      <td>96.35</td>\n",
       "      <td>57.40</td>\n",
       "      <td>13.1300</td>\n",
       "      <td>26.56</td>\n",
       "      <td>224.70</td>\n",
       "      <td>753.34</td>\n",
       "      <td>646.88</td>\n",
       "      <td>42.6216</td>\n",
       "    </tr>\n",
       "    <tr>\n",
       "      <th>183</th>\n",
       "      <td>98.24</td>\n",
       "      <td>62.05</td>\n",
       "      <td>13.1700</td>\n",
       "      <td>20.55</td>\n",
       "      <td>224.12</td>\n",
       "      <td>759.24</td>\n",
       "      <td>642.68</td>\n",
       "      <td>58.6157</td>\n",
       "    </tr>\n",
       "    <tr>\n",
       "      <th>184</th>\n",
       "      <td>96.73</td>\n",
       "      <td>69.60</td>\n",
       "      <td>13.1600</td>\n",
       "      <td>24.35</td>\n",
       "      <td>224.97</td>\n",
       "      <td>747.12</td>\n",
       "      <td>688.88</td>\n",
       "      <td>83.8713</td>\n",
       "    </tr>\n",
       "    <tr>\n",
       "      <th>185</th>\n",
       "      <td>96.40</td>\n",
       "      <td>68.31</td>\n",
       "      <td>13.2100</td>\n",
       "      <td>22.29</td>\n",
       "      <td>217.11</td>\n",
       "      <td>727.72</td>\n",
       "      <td>652.23</td>\n",
       "      <td>69.4601</td>\n",
       "    </tr>\n",
       "  </tbody>\n",
       "</table>\n",
       "<p>186 rows × 8 columns</p>\n",
       "</div>"
      ],
      "text/plain": [
       "         N      m       P1     T1      P3      T3     TJC        A\n",
       "0    94.80  75.30  13.2544  27.00  249.30  725.50  690.70  82.6900\n",
       "1    94.80  75.30  13.1168  27.00  211.60  725.50  690.70  33.0800\n",
       "2    98.60  75.30  13.1168  27.00  249.30  725.50  690.70  62.0200\n",
       "3    94.80  55.70  13.1168  27.00  211.60  725.50  690.70  16.5400\n",
       "4    94.80  75.30  13.1168  27.00  211.60  761.00  637.70  33.0800\n",
       "..     ...    ...      ...    ...     ...     ...     ...      ...\n",
       "181  95.44  72.47  13.2200  20.49  237.12  760.38  686.85  82.7935\n",
       "182  96.35  57.40  13.1300  26.56  224.70  753.34  646.88  42.6216\n",
       "183  98.24  62.05  13.1700  20.55  224.12  759.24  642.68  58.6157\n",
       "184  96.73  69.60  13.1600  24.35  224.97  747.12  688.88  83.8713\n",
       "185  96.40  68.31  13.2100  22.29  217.11  727.72  652.23  69.4601\n",
       "\n",
       "[186 rows x 8 columns]"
      ]
     },
     "execution_count": 19,
     "metadata": {
      "tags": []
     },
     "output_type": "execute_result"
    }
   ],
   "source": [
    "train.append(validate,ignore_index=True)"
   ]
  },
  {
   "cell_type": "code",
   "execution_count": 0,
   "metadata": {
    "colab": {},
    "colab_type": "code",
    "id": "iJeKjO9HJZ0P"
   },
   "outputs": [],
   "source": [
    "train['T3']=train['T3']/10\n",
    "train['TJC']=train['TJC']/10\n",
    "train['P3']=train['P3']/10"
   ]
  },
  {
   "cell_type": "markdown",
   "metadata": {
    "colab_type": "text",
    "id": "7dMl1a2JJZ0V"
   },
   "source": [
    "LOADING TEST DATA"
   ]
  },
  {
   "cell_type": "code",
   "execution_count": 0,
   "metadata": {
    "colab": {
     "base_uri": "https://localhost:8080/",
     "height": 221
    },
    "colab_type": "code",
    "id": "0ivIrEk0JZ0W",
    "outputId": "724b0901-cc7c-42c2-fc72-197ea21d2773"
   },
   "outputs": [
    {
     "name": "stdout",
     "output_type": "stream",
     "text": [
      "(24, 8)\n"
     ]
    },
    {
     "data": {
      "text/html": [
       "<div>\n",
       "<style scoped>\n",
       "    .dataframe tbody tr th:only-of-type {\n",
       "        vertical-align: middle;\n",
       "    }\n",
       "\n",
       "    .dataframe tbody tr th {\n",
       "        vertical-align: top;\n",
       "    }\n",
       "\n",
       "    .dataframe thead th {\n",
       "        text-align: right;\n",
       "    }\n",
       "</style>\n",
       "<table border=\"1\" class=\"dataframe\">\n",
       "  <thead>\n",
       "    <tr style=\"text-align: right;\">\n",
       "      <th></th>\n",
       "      <th>N</th>\n",
       "      <th>m</th>\n",
       "      <th>P1</th>\n",
       "      <th>T1</th>\n",
       "      <th>P3</th>\n",
       "      <th>T3</th>\n",
       "      <th>TJC</th>\n",
       "      <th>A</th>\n",
       "    </tr>\n",
       "  </thead>\n",
       "  <tbody>\n",
       "    <tr>\n",
       "      <th>0</th>\n",
       "      <td>95.0504</td>\n",
       "      <td>69.8002</td>\n",
       "      <td>13.13</td>\n",
       "      <td>25.8</td>\n",
       "      <td>222.5</td>\n",
       "      <td>752.0</td>\n",
       "      <td>685.0</td>\n",
       "      <td>76.0174</td>\n",
       "    </tr>\n",
       "    <tr>\n",
       "      <th>1</th>\n",
       "      <td>95.7920</td>\n",
       "      <td>71.5995</td>\n",
       "      <td>13.16</td>\n",
       "      <td>26.1</td>\n",
       "      <td>233.5</td>\n",
       "      <td>742.9</td>\n",
       "      <td>651.4</td>\n",
       "      <td>72.6498</td>\n",
       "    </tr>\n",
       "    <tr>\n",
       "      <th>2</th>\n",
       "      <td>96.1042</td>\n",
       "      <td>72.1003</td>\n",
       "      <td>13.12</td>\n",
       "      <td>26.1</td>\n",
       "      <td>235.2</td>\n",
       "      <td>743.5</td>\n",
       "      <td>646.3</td>\n",
       "      <td>68.9307</td>\n",
       "    </tr>\n",
       "    <tr>\n",
       "      <th>3</th>\n",
       "      <td>96.4946</td>\n",
       "      <td>72.4002</td>\n",
       "      <td>13.15</td>\n",
       "      <td>24.5</td>\n",
       "      <td>234.3</td>\n",
       "      <td>761.0</td>\n",
       "      <td>686.9</td>\n",
       "      <td>67.4881</td>\n",
       "    </tr>\n",
       "    <tr>\n",
       "      <th>4</th>\n",
       "      <td>97.3730</td>\n",
       "      <td>74.1005</td>\n",
       "      <td>13.15</td>\n",
       "      <td>25.2</td>\n",
       "      <td>243.9</td>\n",
       "      <td>747.9</td>\n",
       "      <td>672.0</td>\n",
       "      <td>68.2048</td>\n",
       "    </tr>\n",
       "  </tbody>\n",
       "</table>\n",
       "</div>"
      ],
      "text/plain": [
       "         N        m     P1    T1     P3     T3    TJC        A\n",
       "0  95.0504  69.8002  13.13  25.8  222.5  752.0  685.0  76.0174\n",
       "1  95.7920  71.5995  13.16  26.1  233.5  742.9  651.4  72.6498\n",
       "2  96.1042  72.1003  13.12  26.1  235.2  743.5  646.3  68.9307\n",
       "3  96.4946  72.4002  13.15  24.5  234.3  761.0  686.9  67.4881\n",
       "4  97.3730  74.1005  13.15  25.2  243.9  747.9  672.0  68.2048"
      ]
     },
     "execution_count": 21,
     "metadata": {
      "tags": []
     },
     "output_type": "execute_result"
    }
   ],
   "source": [
    "test = pd.read_csv(\"testdata.csv\")\n",
    "test=test.rename(columns={\"NL\": \"N\",\"Analytical value\":\"A\",\"TJ\":\"TJC\"})\n",
    "del test['Experimental value']\n",
    "print(np.shape(test))\n",
    "test.head()\n"
   ]
  },
  {
   "cell_type": "markdown",
   "metadata": {
    "colab_type": "text",
    "id": "w07DDOAIJZ0a"
   },
   "source": [
    "MAKING ALL INPUT VARIABLES IN RANGE OF 0-1, FOR EASY COMPUTATION"
   ]
  },
  {
   "cell_type": "code",
   "execution_count": 0,
   "metadata": {
    "colab": {},
    "colab_type": "code",
    "id": "QqkXQBrcJZ0b"
   },
   "outputs": [],
   "source": [
    "test['T3']=validate['T3']/10\n",
    "test['TJC']=validate['TJC']/10\n",
    "test['P3']=validate['P3']/10"
   ]
  },
  {
   "cell_type": "markdown",
   "metadata": {
    "colab_type": "text",
    "id": "l89-x9q9JZ0e"
   },
   "source": [
    "SPLITTING INTO TRAINING AND TESTING"
   ]
  },
  {
   "cell_type": "code",
   "execution_count": 0,
   "metadata": {
    "colab": {},
    "colab_type": "code",
    "id": "qpys100pJZ0f"
   },
   "outputs": [],
   "source": [
    "features = train.columns[:7]\n",
    "X_train = train[features]/100\n",
    "y_train = train['A']/100\n",
    "X_train=np.asarray(X_train)\n",
    "y_train=np.asarray(y_train)\n",
    "features = test.columns[:7]\n",
    "X_test = test[features]/100\n",
    "y_test = test['A']/100"
   ]
  },
  {
   "cell_type": "code",
   "execution_count": 0,
   "metadata": {
    "colab": {
     "base_uri": "https://localhost:8080/",
     "height": 136
    },
    "colab_type": "code",
    "id": "tZwvd0IkJZ0j",
    "outputId": "d5263de5-6a76-45e3-fe0f-2aaba03ac08d"
   },
   "outputs": [
    {
     "data": {
      "text/plain": [
       "array([[0.948   , 0.753   , 0.132544, ..., 0.2493  , 0.7255  , 0.6907  ],\n",
       "       [0.948   , 0.753   , 0.131168, ..., 0.2116  , 0.7255  , 0.6907  ],\n",
       "       [0.986   , 0.753   , 0.131168, ..., 0.2493  , 0.7255  , 0.6907  ],\n",
       "       ...,\n",
       "       [0.948   , 0.753   , 0.132544, ..., 0.2493  , 0.761   , 0.6907  ],\n",
       "       [0.948   , 0.557   , 0.131168, ..., 0.2493  , 0.7255  , 0.6907  ],\n",
       "       [0.986   , 0.557   , 0.131168, ..., 0.2493  , 0.761   , 0.6377  ]])"
      ]
     },
     "execution_count": 24,
     "metadata": {
      "tags": []
     },
     "output_type": "execute_result"
    }
   ],
   "source": [
    "\n",
    "X_train"
   ]
  },
  {
   "cell_type": "code",
   "execution_count": 0,
   "metadata": {
    "colab": {
     "base_uri": "https://localhost:8080/",
     "height": 323
    },
    "colab_type": "code",
    "id": "dNLnpmcZJZ0o",
    "outputId": "4d9b2d90-af3d-4c50-9540-9ac904b297a0"
   },
   "outputs": [
    {
     "data": {
      "text/plain": [
       "array([0.8269, 0.3308, 0.6202, 0.1654, 0.3308, 0.8269, 0.4961, 0.3308,\n",
       "       0.63  , 0.2953, 0.2605, 0.945 , 0.7875, 1.1813, 0.6202, 0.8682,\n",
       "       0.2481, 0.15  , 0.3938, 0.5625, 0.6615, 0.4134, 1.2403, 1.1721,\n",
       "       0.225 , 0.1969, 0.225 , 0.9767, 0.3101, 0.375 , 0.4725, 0.1538,\n",
       "       0.4341, 0.5906, 0.4961, 1.1813, 0.6   , 0.4341, 0.2067, 1.3023,\n",
       "       0.9923, 0.7262, 0.1736, 0.6946, 0.1575, 0.9923, 0.315 , 0.4134,\n",
       "       0.5906, 0.315 , 0.945 , 0.2363, 0.6615, 0.5906, 0.1538, 0.7875,\n",
       "       0.2363, 0.4725, 0.1654, 0.2067, 0.3256, 1.0419, 0.3938, 0.3308,\n",
       "       0.4961, 0.315 , 0.9   , 0.63  , 0.5209, 0.3   , 1.0853, 0.5625,\n",
       "       0.4134, 0.75  , 0.375 , 0.4341, 0.1688, 0.4341, 0.4725, 0.315 ,\n",
       "       0.6202, 0.6512, 1.1813, 0.4961, 0.5209, 0.225 , 0.945 , 0.63  ,\n",
       "       0.4134, 0.9923, 0.3938, 0.3938, 0.6512, 0.5906, 0.9767, 0.6512,\n",
       "       0.1575, 0.1654, 0.3938, 0.4725, 1.2713, 0.3308, 0.2171, 0.1575,\n",
       "       0.1969, 0.3   , 0.2481, 0.2363, 0.3256, 0.45  , 0.7875, 0.2953,\n",
       "       0.3101, 0.2481, 0.5091, 0.45  , 0.4961, 0.2813, 0.315 , 0.315 ,\n",
       "       0.5906, 1.125 , 1.3023, 0.4961, 0.4725, 0.6615, 0.6512, 1.2713,\n",
       "       0.1875, 0.1538, 0.6202, 0.2171, 0.3473, 0.4725, 0.3473, 0.3938,\n",
       "       0.852 , 1.2403, 0.3308, 0.5906, 0.8682, 0.1969, 0.2953])"
      ]
     },
     "execution_count": 25,
     "metadata": {
      "tags": []
     },
     "output_type": "execute_result"
    }
   ],
   "source": [
    "y_train"
   ]
  },
  {
   "cell_type": "code",
   "execution_count": 0,
   "metadata": {
    "colab": {
     "base_uri": "https://localhost:8080/",
     "height": 793
    },
    "colab_type": "code",
    "id": "tk5enr9yJZ0r",
    "outputId": "4226ff16-4d34-415f-9ed1-036c678ad340"
   },
   "outputs": [
    {
     "data": {
      "text/html": [
       "<div>\n",
       "<style scoped>\n",
       "    .dataframe tbody tr th:only-of-type {\n",
       "        vertical-align: middle;\n",
       "    }\n",
       "\n",
       "    .dataframe tbody tr th {\n",
       "        vertical-align: top;\n",
       "    }\n",
       "\n",
       "    .dataframe thead th {\n",
       "        text-align: right;\n",
       "    }\n",
       "</style>\n",
       "<table border=\"1\" class=\"dataframe\">\n",
       "  <thead>\n",
       "    <tr style=\"text-align: right;\">\n",
       "      <th></th>\n",
       "      <th>N</th>\n",
       "      <th>m</th>\n",
       "      <th>P1</th>\n",
       "      <th>T1</th>\n",
       "      <th>P3</th>\n",
       "      <th>T3</th>\n",
       "      <th>TJC</th>\n",
       "    </tr>\n",
       "  </thead>\n",
       "  <tbody>\n",
       "    <tr>\n",
       "      <th>0</th>\n",
       "      <td>0.950504</td>\n",
       "      <td>0.698002</td>\n",
       "      <td>0.1313</td>\n",
       "      <td>0.258</td>\n",
       "      <td>0.21663</td>\n",
       "      <td>0.73561</td>\n",
       "      <td>0.66744</td>\n",
       "    </tr>\n",
       "    <tr>\n",
       "      <th>1</th>\n",
       "      <td>0.957920</td>\n",
       "      <td>0.715995</td>\n",
       "      <td>0.1316</td>\n",
       "      <td>0.261</td>\n",
       "      <td>0.23653</td>\n",
       "      <td>0.75909</td>\n",
       "      <td>0.68322</td>\n",
       "    </tr>\n",
       "    <tr>\n",
       "      <th>2</th>\n",
       "      <td>0.961042</td>\n",
       "      <td>0.721003</td>\n",
       "      <td>0.1312</td>\n",
       "      <td>0.261</td>\n",
       "      <td>0.22533</td>\n",
       "      <td>0.75951</td>\n",
       "      <td>0.67338</td>\n",
       "    </tr>\n",
       "    <tr>\n",
       "      <th>3</th>\n",
       "      <td>0.964946</td>\n",
       "      <td>0.724002</td>\n",
       "      <td>0.1315</td>\n",
       "      <td>0.245</td>\n",
       "      <td>0.22734</td>\n",
       "      <td>0.73296</td>\n",
       "      <td>0.67373</td>\n",
       "    </tr>\n",
       "    <tr>\n",
       "      <th>4</th>\n",
       "      <td>0.973730</td>\n",
       "      <td>0.741005</td>\n",
       "      <td>0.1315</td>\n",
       "      <td>0.252</td>\n",
       "      <td>0.23698</td>\n",
       "      <td>0.74453</td>\n",
       "      <td>0.66948</td>\n",
       "    </tr>\n",
       "    <tr>\n",
       "      <th>5</th>\n",
       "      <td>0.961045</td>\n",
       "      <td>0.718004</td>\n",
       "      <td>0.1314</td>\n",
       "      <td>0.270</td>\n",
       "      <td>0.22941</td>\n",
       "      <td>0.75186</td>\n",
       "      <td>0.64378</td>\n",
       "    </tr>\n",
       "    <tr>\n",
       "      <th>6</th>\n",
       "      <td>0.964399</td>\n",
       "      <td>0.728000</td>\n",
       "      <td>0.1319</td>\n",
       "      <td>0.244</td>\n",
       "      <td>0.22665</td>\n",
       "      <td>0.76030</td>\n",
       "      <td>0.66631</td>\n",
       "    </tr>\n",
       "    <tr>\n",
       "      <th>7</th>\n",
       "      <td>0.965030</td>\n",
       "      <td>0.739995</td>\n",
       "      <td>0.1316</td>\n",
       "      <td>0.266</td>\n",
       "      <td>0.21533</td>\n",
       "      <td>0.73043</td>\n",
       "      <td>0.67533</td>\n",
       "    </tr>\n",
       "    <tr>\n",
       "      <th>8</th>\n",
       "      <td>0.963303</td>\n",
       "      <td>0.725001</td>\n",
       "      <td>0.1320</td>\n",
       "      <td>0.238</td>\n",
       "      <td>0.22611</td>\n",
       "      <td>0.74314</td>\n",
       "      <td>0.67765</td>\n",
       "    </tr>\n",
       "    <tr>\n",
       "      <th>9</th>\n",
       "      <td>0.968761</td>\n",
       "      <td>0.737996</td>\n",
       "      <td>0.1320</td>\n",
       "      <td>0.232</td>\n",
       "      <td>0.23840</td>\n",
       "      <td>0.75434</td>\n",
       "      <td>0.64282</td>\n",
       "    </tr>\n",
       "    <tr>\n",
       "      <th>10</th>\n",
       "      <td>0.968362</td>\n",
       "      <td>0.729999</td>\n",
       "      <td>0.1315</td>\n",
       "      <td>0.258</td>\n",
       "      <td>0.21498</td>\n",
       "      <td>0.75561</td>\n",
       "      <td>0.64524</td>\n",
       "    </tr>\n",
       "    <tr>\n",
       "      <th>11</th>\n",
       "      <td>0.974108</td>\n",
       "      <td>0.744004</td>\n",
       "      <td>0.1318</td>\n",
       "      <td>0.241</td>\n",
       "      <td>0.24219</td>\n",
       "      <td>0.75372</td>\n",
       "      <td>0.65508</td>\n",
       "    </tr>\n",
       "    <tr>\n",
       "      <th>12</th>\n",
       "      <td>0.958099</td>\n",
       "      <td>0.725001</td>\n",
       "      <td>0.1318</td>\n",
       "      <td>0.267</td>\n",
       "      <td>0.23542</td>\n",
       "      <td>0.72568</td>\n",
       "      <td>0.68729</td>\n",
       "    </tr>\n",
       "    <tr>\n",
       "      <th>13</th>\n",
       "      <td>0.973152</td>\n",
       "      <td>0.743004</td>\n",
       "      <td>0.1323</td>\n",
       "      <td>0.239</td>\n",
       "      <td>0.23268</td>\n",
       "      <td>0.73224</td>\n",
       "      <td>0.65711</td>\n",
       "    </tr>\n",
       "    <tr>\n",
       "      <th>14</th>\n",
       "      <td>0.951312</td>\n",
       "      <td>0.698002</td>\n",
       "      <td>0.1321</td>\n",
       "      <td>0.249</td>\n",
       "      <td>0.24236</td>\n",
       "      <td>0.75946</td>\n",
       "      <td>0.66904</td>\n",
       "    </tr>\n",
       "    <tr>\n",
       "      <th>15</th>\n",
       "      <td>0.963151</td>\n",
       "      <td>0.711997</td>\n",
       "      <td>0.1321</td>\n",
       "      <td>0.263</td>\n",
       "      <td>0.22752</td>\n",
       "      <td>0.73974</td>\n",
       "      <td>0.67949</td>\n",
       "    </tr>\n",
       "    <tr>\n",
       "      <th>16</th>\n",
       "      <td>0.967433</td>\n",
       "      <td>0.721003</td>\n",
       "      <td>0.1320</td>\n",
       "      <td>0.259</td>\n",
       "      <td>0.21980</td>\n",
       "      <td>0.74771</td>\n",
       "      <td>0.67296</td>\n",
       "    </tr>\n",
       "    <tr>\n",
       "      <th>17</th>\n",
       "      <td>0.951553</td>\n",
       "      <td>0.703000</td>\n",
       "      <td>0.1312</td>\n",
       "      <td>0.261</td>\n",
       "      <td>0.24751</td>\n",
       "      <td>0.73257</td>\n",
       "      <td>0.63909</td>\n",
       "    </tr>\n",
       "    <tr>\n",
       "      <th>18</th>\n",
       "      <td>0.965328</td>\n",
       "      <td>0.708998</td>\n",
       "      <td>0.1322</td>\n",
       "      <td>0.257</td>\n",
       "      <td>0.23339</td>\n",
       "      <td>0.75931</td>\n",
       "      <td>0.64506</td>\n",
       "    </tr>\n",
       "    <tr>\n",
       "      <th>19</th>\n",
       "      <td>0.965794</td>\n",
       "      <td>0.710997</td>\n",
       "      <td>0.1324</td>\n",
       "      <td>0.255</td>\n",
       "      <td>0.22545</td>\n",
       "      <td>0.73368</td>\n",
       "      <td>0.68465</td>\n",
       "    </tr>\n",
       "    <tr>\n",
       "      <th>20</th>\n",
       "      <td>0.966077</td>\n",
       "      <td>0.718004</td>\n",
       "      <td>0.1323</td>\n",
       "      <td>0.257</td>\n",
       "      <td>0.22455</td>\n",
       "      <td>0.74895</td>\n",
       "      <td>0.67534</td>\n",
       "    </tr>\n",
       "    <tr>\n",
       "      <th>21</th>\n",
       "      <td>0.966187</td>\n",
       "      <td>0.719004</td>\n",
       "      <td>0.1322</td>\n",
       "      <td>0.264</td>\n",
       "      <td>0.23977</td>\n",
       "      <td>0.75619</td>\n",
       "      <td>0.66276</td>\n",
       "    </tr>\n",
       "    <tr>\n",
       "      <th>22</th>\n",
       "      <td>0.952330</td>\n",
       "      <td>0.705999</td>\n",
       "      <td>0.1319</td>\n",
       "      <td>0.246</td>\n",
       "      <td>0.24912</td>\n",
       "      <td>0.74752</td>\n",
       "      <td>0.67556</td>\n",
       "    </tr>\n",
       "    <tr>\n",
       "      <th>23</th>\n",
       "      <td>0.952209</td>\n",
       "      <td>0.715995</td>\n",
       "      <td>0.1316</td>\n",
       "      <td>0.235</td>\n",
       "      <td>0.23274</td>\n",
       "      <td>0.74493</td>\n",
       "      <td>0.64609</td>\n",
       "    </tr>\n",
       "  </tbody>\n",
       "</table>\n",
       "</div>"
      ],
      "text/plain": [
       "           N         m      P1     T1       P3       T3      TJC\n",
       "0   0.950504  0.698002  0.1313  0.258  0.21663  0.73561  0.66744\n",
       "1   0.957920  0.715995  0.1316  0.261  0.23653  0.75909  0.68322\n",
       "2   0.961042  0.721003  0.1312  0.261  0.22533  0.75951  0.67338\n",
       "3   0.964946  0.724002  0.1315  0.245  0.22734  0.73296  0.67373\n",
       "4   0.973730  0.741005  0.1315  0.252  0.23698  0.74453  0.66948\n",
       "5   0.961045  0.718004  0.1314  0.270  0.22941  0.75186  0.64378\n",
       "6   0.964399  0.728000  0.1319  0.244  0.22665  0.76030  0.66631\n",
       "7   0.965030  0.739995  0.1316  0.266  0.21533  0.73043  0.67533\n",
       "8   0.963303  0.725001  0.1320  0.238  0.22611  0.74314  0.67765\n",
       "9   0.968761  0.737996  0.1320  0.232  0.23840  0.75434  0.64282\n",
       "10  0.968362  0.729999  0.1315  0.258  0.21498  0.75561  0.64524\n",
       "11  0.974108  0.744004  0.1318  0.241  0.24219  0.75372  0.65508\n",
       "12  0.958099  0.725001  0.1318  0.267  0.23542  0.72568  0.68729\n",
       "13  0.973152  0.743004  0.1323  0.239  0.23268  0.73224  0.65711\n",
       "14  0.951312  0.698002  0.1321  0.249  0.24236  0.75946  0.66904\n",
       "15  0.963151  0.711997  0.1321  0.263  0.22752  0.73974  0.67949\n",
       "16  0.967433  0.721003  0.1320  0.259  0.21980  0.74771  0.67296\n",
       "17  0.951553  0.703000  0.1312  0.261  0.24751  0.73257  0.63909\n",
       "18  0.965328  0.708998  0.1322  0.257  0.23339  0.75931  0.64506\n",
       "19  0.965794  0.710997  0.1324  0.255  0.22545  0.73368  0.68465\n",
       "20  0.966077  0.718004  0.1323  0.257  0.22455  0.74895  0.67534\n",
       "21  0.966187  0.719004  0.1322  0.264  0.23977  0.75619  0.66276\n",
       "22  0.952330  0.705999  0.1319  0.246  0.24912  0.74752  0.67556\n",
       "23  0.952209  0.715995  0.1316  0.235  0.23274  0.74493  0.64609"
      ]
     },
     "execution_count": 26,
     "metadata": {
      "tags": []
     },
     "output_type": "execute_result"
    }
   ],
   "source": [
    "X_test"
   ]
  },
  {
   "cell_type": "markdown",
   "metadata": {
    "colab_type": "text",
    "id": "OAnFsuOOJZ0u"
   },
   "source": [
    "NEURAL NETWORK WITH DIFFERENT VARYING PARAMETERS"
   ]
  },
  {
   "cell_type": "code",
   "execution_count": 0,
   "metadata": {
    "colab": {},
    "colab_type": "code",
    "id": "y6K937HRJZ0v"
   },
   "outputs": [],
   "source": [
    "#NO. OF HIDDEN LAYERS\n",
    "#NO. OF NEURONS IN EACH LAYER\n",
    "#NO. OF TIMES ITERATION\n",
    "#BATCH SIZE"
   ]
  },
  {
   "cell_type": "code",
   "execution_count": 0,
   "metadata": {
    "colab": {},
    "colab_type": "code",
    "id": "odi-PeB2_SJ0"
   },
   "outputs": [],
   "source": [
    "#3 hidden layers\n",
    "#128 32 8 "
   ]
  },
  {
   "cell_type": "code",
   "execution_count": 0,
   "metadata": {
    "colab": {},
    "colab_type": "code",
    "id": "UjpGJlLt_hML"
   },
   "outputs": [],
   "source": [
    "k=0\n",
    "best_rmse=100\n",
    "rmse_array=[None]*100\n",
    "epoc=[None]*100\n",
    "for i in range(0,1000,10):\n",
    "    model = Sequential()\n",
    "    model.add(Dense(128, input_dim=7, activation='relu'))\n",
    "    model.add(Dense(32, activation='relu'))\n",
    "    model.add(Dense(8, activation='relu'))\n",
    "    model.add(Dense(1, activation='sigmoid'))\n",
    "    # Compile model\n",
    "    model.compile(loss='mean_squared_error', optimizer='adam', metrics=['accuracy'])\n",
    "    # Fit the model\n",
    "    model.fit(X_train, y_train, validation_split=0.20, epochs=i, batch_size=10, verbose=0)\n",
    "    Y_pred= model.predict(X_test)\n",
    "    Y_pred=Y_pred*100\n",
    "    mse=mean_squared_error(y_test*100, Y_pred)\n",
    "    rmse=mse**(1/2)\n",
    "    if best_rmse>rmse:\n",
    "      best_mse=rmse\n",
    "      Y_pred_best=Y_pred\n",
    "    rmse_array[k]=rmse\n",
    "    epoc[k]=i\n",
    "    k=k+1"
   ]
  },
  {
   "cell_type": "code",
   "execution_count": 0,
   "metadata": {
    "colab": {
     "base_uri": "https://localhost:8080/",
     "height": 340
    },
    "colab_type": "code",
    "id": "4EyiIHYf_hRU",
    "outputId": "3e2cc98a-a7c5-4842-b10f-5beb8239087d"
   },
   "outputs": [
    {
     "name": "stdout",
     "output_type": "stream",
     "text": [
      "[29.77466042 23.64798249 18.46598958 18.28483521 20.07498248 14.97702738\n",
      "  9.21362814  9.40606333 10.36108195 11.93886122 10.10602472  9.30610405\n",
      "  8.67039533  8.55328088  9.83667924  8.52267754  8.95015536  8.58158613\n",
      "  8.79814208  8.80112938 22.93039947  8.41484463  8.54114881 22.81285778\n",
      " 22.93583881  8.57903866  8.49015832  8.54582587  8.51781473  8.29376613\n",
      "  8.98081142  8.23705337  8.3587951   9.06704599  8.36801341  8.28497056\n",
      "  8.70067396  8.92218007  8.32264914  8.67378336  9.525405    8.40257882\n",
      " 22.86298027  8.46047369  8.38752841  8.30582414  8.72101217  9.97750705\n",
      " 22.96853265  8.90669936  8.66176486  8.61059203  8.45170563  8.35799783\n",
      " 22.83314725  8.58746696  8.47350615  8.695063    8.65333311  8.52712118\n",
      "  8.57141128  8.41500145  9.22537531  9.84212135 10.59834454 10.97026813\n",
      " 10.90055349  9.61337116  8.46860393  8.86586891  8.40091979  8.46857865\n",
      "  9.51115563 10.44675207  9.87966388 11.03201425  8.98140221 11.59680421\n",
      " 10.18396179  8.83817349  9.37212763  9.56184542 11.74706291  9.7617186\n",
      "  9.78442628 13.21901065  8.91711464  9.73145699 11.14717904 14.68609725\n",
      " 12.2347166  12.22640316  9.79051575 15.3718861  13.78002462  9.85839621\n",
      " 14.58012603  9.02929182 22.93340211  8.89420233]\n",
      "Best rmse 8.237053374691119\n",
      "epoch index 310\n"
     ]
    }
   ],
   "source": [
    "rmse_array=np.asarray(rmse_array)\n",
    "print(rmse_array)\n",
    "epoc=np.asarray(epoc)\n",
    "best_rmse=min(rmse_array)\n",
    "print(\"Best rmse\",best_rmse)\n",
    "for i in range(0,100):\n",
    "  if best_rmse==rmse_array[i]:\n",
    "    index=i\n",
    "print(\"epoch index\",epoc[index])"
   ]
  },
  {
   "cell_type": "code",
   "execution_count": 0,
   "metadata": {
    "colab": {
     "base_uri": "https://localhost:8080/",
     "height": 295
    },
    "colab_type": "code",
    "id": "B_00vKQ__hWn",
    "outputId": "1b605cf0-b4b2-4f74-96df-f095ccac84da"
   },
   "outputs": [
    {
     "data": {
      "image/png": "[encoded data removed]",
      "text/plain": [
       "<Figure size 432x288 with 1 Axes>"
      ]
     },
     "metadata": {
      "needs_background": "light",
      "tags": []
     },
     "output_type": "display_data"
    }
   ],
   "source": [
    "import matplotlib.pyplot as plt\n",
    "plt.plot(epoc,rmse_array)\n",
    "plt.title('RMSE Vs Epoch')\n",
    "plt.ylabel('RMSE')\n",
    "plt.xlabel('Epoch')\n",
    "plt.show()"
   ]
  },
  {
   "cell_type": "code",
   "execution_count": 0,
   "metadata": {
    "colab": {},
    "colab_type": "code",
    "id": "3kgufIeHBAzp"
   },
   "outputs": [],
   "source": [
    "k=0\n",
    "best_rmse=100\n",
    "rmse_array=[None]*100\n",
    "epoc=[None]*100\n",
    "for i in range(0,1000,10):\n",
    "    model = Sequential()\n",
    "    model.add(Dense(128, input_dim=7, activation='relu'))\n",
    "    model.add(Dense(32, activation='relu'))\n",
    "    model.add(Dense(8, activation='relu'))\n",
    "    model.add(Dense(1, activation='sigmoid'))\n",
    "    # Compile model\n",
    "    model.compile(loss='binary_crossentropy', optimizer='adam', metrics=['accuracy'])\n",
    "    # Fit the model\n",
    "    model.fit(X_train, y_train, validation_split=0.20, epochs=i, batch_size=10, verbose=0)\n",
    "    Y_pred= model.predict(X_test)\n",
    "    Y_pred=Y_pred*100\n",
    "    mse=mean_squared_error(y_test*100, Y_pred)\n",
    "    rmse=mse**(1/2)\n",
    "    if best_rmse>rmse:\n",
    "      best_mse=rmse\n",
    "      Y_pred_best=Y_pred\n",
    "    rmse_array[k]=rmse\n",
    "    epoc[k]=i\n",
    "    k=k+1"
   ]
  },
  {
   "cell_type": "code",
   "execution_count": 0,
   "metadata": {
    "colab": {
     "base_uri": "https://localhost:8080/",
     "height": 618
    },
    "colab_type": "code",
    "id": "rwZZJpl4Wi1x",
    "outputId": "2aff559e-a137-4b53-aa0b-a9b03d5b56f2"
   },
   "outputs": [
    {
     "name": "stdout",
     "output_type": "stream",
     "text": [
      "[ 9.65466486 21.2233069  16.21335116 11.63076721 22.20693195 14.38853256\n",
      "  9.24597223  8.50756561  9.27797762 22.9644035  10.18229407  9.23038352\n",
      "  8.96637269 23.00885919 11.2471607   9.48430228  8.94934324  8.96085995\n",
      "  8.7354949   8.45012111  8.76982279  9.39646144  8.7806625  10.17534499\n",
      "  8.71839054  8.36982084  8.75668298  8.66306979  8.0912385   8.44806826\n",
      "  8.20916527  8.58914295  8.44561749  9.14444474  8.61110395  8.54102531\n",
      "  8.4823582   8.44921577  8.59781843  9.18466772  8.59189978  9.20518238\n",
      "  8.42774823  8.49684873  8.59511876  8.71917266  9.48996544  8.6793531\n",
      "  8.59492414 22.76567503 11.01480764 23.00134038  8.97109568  8.48458334\n",
      "  9.03746314 22.93742994  8.62734063  9.00836986  8.84234566  8.5880245\n",
      "  8.67854087  8.89118006  8.93284525  9.13183045  8.58242957  8.65521141\n",
      "  8.30500846  8.47582875  9.04231643 10.73058974  8.76610617  8.38960645\n",
      " 10.42461966 23.02994029 10.52788092  9.62498122  9.12550565 10.32904876\n",
      " 17.40161424 12.89444131  9.42136441 11.87824425 19.34981092 11.70951999\n",
      " 16.73733109  9.90731695  9.76451432  9.60593943 19.22411018 13.18396679\n",
      " 12.28734037 13.72600604 15.41981008  8.67019527 14.83739815 11.78660586\n",
      " 13.59502147 12.50974392 22.91521845  9.21586019]\n",
      "Best rmse 8.09123850462101\n",
      "epoch index 280\n"
     ]
    },
    {
     "data": {
      "image/png": "[encoded data removed]",
      "text/plain": [
       "<Figure size 432x288 with 1 Axes>"
      ]
     },
     "metadata": {
      "needs_background": "light",
      "tags": []
     },
     "output_type": "display_data"
    }
   ],
   "source": [
    "rmse_array=np.asarray(rmse_array)\n",
    "print(rmse_array)\n",
    "epoc=np.asarray(epoc)\n",
    "best_rmse=min(rmse_array)\n",
    "print(\"Best rmse\",best_rmse)\n",
    "for i in range(0,100):\n",
    "  if best_rmse==rmse_array[i]:\n",
    "    index=i\n",
    "print(\"epoch index\",epoc[index])\n",
    "import matplotlib.pyplot as plt\n",
    "plt.plot(epoc,rmse_array)\n",
    "plt.title('RMSE Vs Epoch')\n",
    "plt.ylabel('RMSE')\n",
    "plt.xlabel('Epoch')\n",
    "plt.show()"
   ]
  },
  {
   "cell_type": "code",
   "execution_count": 0,
   "metadata": {
    "colab": {},
    "colab_type": "code",
    "id": "WxTaozXpWi7x"
   },
   "outputs": [],
   "source": []
  },
  {
   "cell_type": "code",
   "execution_count": 0,
   "metadata": {
    "colab": {},
    "colab_type": "code",
    "id": "byFR57z2WjA9"
   },
   "outputs": [],
   "source": []
  },
  {
   "cell_type": "code",
   "execution_count": 0,
   "metadata": {
    "colab": {},
    "colab_type": "code",
    "id": "dqGeFYQ5WjNq"
   },
   "outputs": [],
   "source": []
  },
  {
   "cell_type": "code",
   "execution_count": 0,
   "metadata": {
    "colab": {},
    "colab_type": "code",
    "id": "Z584HXpBWjLY"
   },
   "outputs": [],
   "source": []
  },
  {
   "cell_type": "code",
   "execution_count": 0,
   "metadata": {
    "colab": {},
    "colab_type": "code",
    "id": "OMLb76z0_hU2"
   },
   "outputs": [],
   "source": [
    "#3 layer\n",
    "#128 128 128"
   ]
  },
  {
   "cell_type": "code",
   "execution_count": 0,
   "metadata": {
    "colab": {},
    "colab_type": "code",
    "id": "PhSdgZbS_hPg"
   },
   "outputs": [],
   "source": [
    "k=0\n",
    "best_rmse=100\n",
    "rmse_array=[None]*100\n",
    "epoc=[None]*100\n",
    "for i in range(0,1000,10):\n",
    "    model = Sequential()\n",
    "    model.add(Dense(128, input_dim=7, activation='relu'))\n",
    "    model.add(Dense(128, activation='relu'))\n",
    "    model.add(Dense(128, activation='relu'))\n",
    "    model.add(Dense(1, activation='sigmoid'))\n",
    "    # Compile model\n",
    "    model.compile(loss='mean_squared_error', optimizer='adam', metrics=['accuracy'])\n",
    "    # Fit the model\n",
    "    model.fit(X_train, y_train, validation_split=0.20, epochs=i, batch_size=10, verbose=0)\n",
    "    Y_pred= model.predict(X_test)\n",
    "    Y_pred=Y_pred*100\n",
    "    mse=mean_squared_error(y_test*100, Y_pred)\n",
    "    rmse=mse**(1/2)\n",
    "    if best_rmse>rmse:\n",
    "      best_mse=rmse\n",
    "      Y_pred_best=Y_pred\n",
    "    rmse_array[k]=rmse\n",
    "    epoc[k]=i\n",
    "    k=k+1"
   ]
  },
  {
   "cell_type": "code",
   "execution_count": 0,
   "metadata": {
    "colab": {
     "base_uri": "https://localhost:8080/",
     "height": 618
    },
    "colab_type": "code",
    "id": "FqZqNev7_hKS",
    "outputId": "f1cd3843-5f3e-49b7-c02c-27cb5d31dbdf"
   },
   "outputs": [
    {
     "name": "stdout",
     "output_type": "stream",
     "text": [
      "[17.99666737 19.46640258  9.24611357  9.164244    9.03746995  9.1455252\n",
      "  9.26440906  8.80542379  9.76040336  8.9026472   8.57674519  9.2114611\n",
      "  8.36698246  8.89150452  9.34638078  8.76722117  8.46422137  8.75951622\n",
      "  8.80441725  8.76571769  8.72360528  8.52498116  8.8125458  10.05652771\n",
      "  8.7896711   8.66666298  8.40300571  9.02929051  9.2492079   8.84475798\n",
      "  9.86086933  8.76424054  9.01095965 13.19162812  9.36451525 12.18492214\n",
      " 11.90048226 10.40699249  9.54167877 11.17902387 13.64983133 12.7914185\n",
      " 10.56621093  9.51275171 15.52871221 10.01946191 12.11054884 15.57015755\n",
      " 10.41400747 15.1535615  19.69863443 15.7866033  15.03629174 16.02395145\n",
      " 16.02731826 18.33279401  9.99468219 23.69180347 15.95305628 10.70000953\n",
      " 17.4657234  15.42252525 20.75313373 20.75887073 15.59043833 18.85795659\n",
      " 20.67747466 21.68674822 20.75142044 10.26632297 21.2579305  15.76520758\n",
      " 18.35550504 22.64886703 18.73000634 19.46079459 20.42019179 14.90424333\n",
      " 20.12755612 24.65021559 20.57821039 22.78590813 22.47338757 18.83391273\n",
      " 18.74533861 23.02134025 11.7665386  20.91440076 24.44704998 19.04263233\n",
      " 25.19179288 16.71499945 22.65646137 20.97043865 16.01784867 20.0521888\n",
      " 23.69434458 21.64239996 23.80497321 20.94711788]\n",
      "Best rmse 8.366982455266692\n",
      "epoch index 120\n"
     ]
    },
    {
     "data": {
      "image/png": "[encoded data removed]",
      "text/plain": [
       "<Figure size 432x288 with 1 Axes>"
      ]
     },
     "metadata": {
      "needs_background": "light",
      "tags": []
     },
     "output_type": "display_data"
    }
   ],
   "source": [
    "rmse_array=np.asarray(rmse_array)\n",
    "print(rmse_array)\n",
    "epoc=np.asarray(epoc)\n",
    "best_rmse=min(rmse_array)\n",
    "print(\"Best rmse\",best_rmse)\n",
    "for i in range(0,100):\n",
    "  if best_rmse==rmse_array[i]:\n",
    "    index=i\n",
    "print(\"epoch index\",epoc[index])\n",
    "import matplotlib.pyplot as plt\n",
    "plt.plot(epoc,rmse_array)\n",
    "plt.title('RMSE Vs Epoch')\n",
    "plt.ylabel('RMSE')\n",
    "plt.xlabel('Epoch')\n",
    "plt.show()"
   ]
  },
  {
   "cell_type": "code",
   "execution_count": 0,
   "metadata": {
    "colab": {},
    "colab_type": "code",
    "id": "eIeYcHSk_hG-"
   },
   "outputs": [],
   "source": []
  },
  {
   "cell_type": "code",
   "execution_count": 0,
   "metadata": {
    "colab": {},
    "colab_type": "code",
    "id": "Wqi_k31s_hE8"
   },
   "outputs": [],
   "source": []
  },
  {
   "cell_type": "code",
   "execution_count": 0,
   "metadata": {
    "colab": {},
    "colab_type": "code",
    "id": "tgOFXWl4QiFe"
   },
   "outputs": [],
   "source": []
  },
  {
   "cell_type": "code",
   "execution_count": 0,
   "metadata": {
    "colab": {},
    "colab_type": "code",
    "id": "naJkT0FsQiCB"
   },
   "outputs": [],
   "source": [
    "#3 layer\n",
    "# 128 32 8"
   ]
  },
  {
   "cell_type": "code",
   "execution_count": 0,
   "metadata": {
    "colab": {},
    "colab_type": "code",
    "id": "rVhNemvK_hB7"
   },
   "outputs": [],
   "source": [
    "k=0\n",
    "best_rmse=100\n",
    "rmse_array=[None]*100\n",
    "epoc=[None]*100\n",
    "for i in range(0,1000,10):\n",
    "    model = Sequential()\n",
    "    model.add(Dense(128, input_dim=7, activation='relu'))\n",
    "    model.add(Dense(32, activation='relu'))\n",
    "    model.add(Dense(8, activation='relu'))\n",
    "    model.add(Dense(1, activation='sigmoid'))\n",
    "    # Compile model\n",
    "    model.compile(loss='binary_crossentropy', optimizer='adam', metrics=['accuracy'])\n",
    "    # Fit the model\n",
    "    model.fit(X_train, y_train, validation_split=0.20, epochs=i, batch_size=10, verbose=0)\n",
    "    Y_pred= model.predict(X_test)\n",
    "    Y_pred=Y_pred*100\n",
    "    mse=mean_squared_error(y_test*100, Y_pred)\n",
    "    rmse=mse**(1/2)\n",
    "    if best_rmse>rmse:\n",
    "      best_mse=rmse\n",
    "      Y_pred_best=Y_pred\n",
    "    rmse_array[k]=rmse\n",
    "    epoc[k]=i\n",
    "    k=k+1"
   ]
  },
  {
   "cell_type": "code",
   "execution_count": 0,
   "metadata": {
    "colab": {
     "base_uri": "https://localhost:8080/",
     "height": 618
    },
    "colab_type": "code",
    "id": "HaqcTl74LNPi",
    "outputId": "bef80413-0c14-4ea0-e53e-b10fdb38cec9"
   },
   "outputs": [
    {
     "name": "stdout",
     "output_type": "stream",
     "text": [
      "[23.6856638  20.29772521 22.23772619 17.47073281 19.62599389 23.11598375\n",
      " 16.88242247  9.40351118  8.91902336 10.75780646  8.77938018  8.7204416\n",
      " 12.13056769  8.70841206  9.90639295  9.2207756   8.74823756  8.60523949\n",
      "  8.90683323  8.70958137  9.00577279  8.30682422  8.47796111 11.44112091\n",
      "  8.69319033  8.07117834  8.32875224  8.78395371 10.03723105  8.46861125\n",
      "  8.3214593   8.41699419  8.38434749  8.75828455  8.54033831  8.70266675\n",
      "  8.37070069  8.63516798  8.46312643  8.29739436  8.31386289  9.21470108\n",
      "  9.07008638 11.13420403  8.73278107  9.62925325  8.66687851  8.36811657\n",
      "  8.71836239  9.52624481 10.36717856  8.45906473  9.55716173 10.0663995\n",
      "  9.06976805  9.15790025  9.97123672  9.67222715  9.33967479  9.14502427\n",
      "  8.62451537  9.9785209   9.33073439 10.23362109  9.07190442 10.69980671\n",
      "  9.0542243   9.86914461 12.01570279  9.10810057  8.67151242  8.97408935\n",
      "  9.71269219  8.48276468 22.90827575 22.82167295  9.43909734 22.95097798\n",
      " 10.76474302  9.41973846 12.81225848 14.85284383  8.41327307 13.06956208\n",
      " 11.40153574 11.9677157   9.70356173  9.8350183  16.43981196 10.256143\n",
      " 10.13667666  8.88887971 13.66571656 10.3374558  22.80241641 10.25058011\n",
      " 16.88880467 10.21353734 16.11538148 11.87118519]\n",
      "Best rmse 8.071178336124554\n",
      "epoch index 250\n"
     ]
    },
    {
     "data": {
      "image/png": "[encoded data removed]",
      "text/plain": [
       "<Figure size 432x288 with 1 Axes>"
      ]
     },
     "metadata": {
      "needs_background": "light",
      "tags": []
     },
     "output_type": "display_data"
    }
   ],
   "source": [
    "rmse_array=np.asarray(rmse_array)\n",
    "print(rmse_array)\n",
    "epoc=np.asarray(epoc)\n",
    "best_rmse=min(rmse_array)\n",
    "print(\"Best rmse\",best_rmse)\n",
    "for i in range(0,100):\n",
    "  if best_rmse==rmse_array[i]:\n",
    "    index=i\n",
    "print(\"epoch index\",epoc[index])\n",
    "import matplotlib.pyplot as plt\n",
    "plt.plot(epoc,rmse_array)\n",
    "plt.title('RMSE Vs Epoch')\n",
    "plt.ylabel('RMSE')\n",
    "plt.xlabel('Epoch')\n",
    "plt.show()"
   ]
  },
  {
   "cell_type": "code",
   "execution_count": 0,
   "metadata": {
    "colab": {},
    "colab_type": "code",
    "id": "QW1RjW40LNNV"
   },
   "outputs": [],
   "source": [
    "#3 layer\n",
    "# 128 64 32"
   ]
  },
  {
   "cell_type": "code",
   "execution_count": 0,
   "metadata": {
    "colab": {
     "base_uri": "https://localhost:8080/",
     "height": 618
    },
    "colab_type": "code",
    "id": "jpNunnG0msU_",
    "outputId": "4ba2c0c9-9ec8-45cc-d8eb-a7b2a994b1c4"
   },
   "outputs": [
    {
     "name": "stdout",
     "output_type": "stream",
     "text": [
      "[19.50895024 17.04432658 12.233903    9.10035023  9.42758692  9.24134511\n",
      "  9.68782716  8.86674298  9.63000796  9.49006692  9.5835788   9.25695916\n",
      "  9.42642556  9.64104232  9.57387468  9.19865122  9.54734528  9.65055249\n",
      "  9.61761161  9.91396322  9.52552286  9.63839338  9.64332551  9.37888911\n",
      "  9.66113667  9.52344301  9.42335741  9.27554513 11.37121075  9.20248412\n",
      "  9.28701026 10.38386527  9.32065712  9.45269639 10.07372112 11.25499039\n",
      "  9.97394611  9.51998682 12.00471145  9.67323426 10.73002083  9.41218304\n",
      " 10.09296161 10.72784921 10.10069969  9.67616369 10.53684198  9.49516787\n",
      "  9.94513155  9.92045834 11.14140444 15.04030112 11.25075827 13.85767589\n",
      "  9.65670067 11.29699486 11.10441142 13.40529268 12.54048896 12.66660562\n",
      " 12.43420107 11.07070794 12.62501799 10.55872009 11.67652842 11.87439247\n",
      " 15.16355838 14.42078469 17.26360584 15.27396891 12.24380753 11.55972131\n",
      " 15.71127857 18.34748166 12.33773379 17.28184836 12.67040459 13.26005881\n",
      " 10.01888296 16.19784048 20.7212888  15.57057285 13.84100156 13.1302296\n",
      " 12.64178731 13.06083772 13.27969478 17.01370057 19.13467542 19.92156749\n",
      " 11.5624793  18.94088445 12.07219206 16.57307972 16.15799825 18.18326317\n",
      " 15.61871908 14.85379085 12.87116462 13.97209102]\n",
      "Best rmse 8.86674298172942\n",
      "epoch index 70\n"
     ]
    },
    {
     "data": {
      "image/png": "[encoded data removed]",
      "text/plain": [
       "<Figure size 432x288 with 1 Axes>"
      ]
     },
     "metadata": {
      "needs_background": "light",
      "tags": []
     },
     "output_type": "display_data"
    }
   ],
   "source": [
    "k=0\n",
    "best_rmse=100\n",
    "rmse_array=[None]*100\n",
    "epoc=[None]*100\n",
    "for i in range(0,1000,10):\n",
    "    model = Sequential()\n",
    "    model.add(Dense(128, input_dim=7, activation='relu'))\n",
    "    model.add(Dense(64, activation='relu'))\n",
    "    model.add(Dense(32, activation='relu'))\n",
    "    model.add(Dense(1, activation='sigmoid'))\n",
    "    # Compile model\n",
    "    model.compile(loss='binary_crossentropy', optimizer='adam', metrics=['accuracy'])\n",
    "    # Fit the model\n",
    "    model.fit(X_train, y_train, validation_split=0.20, epochs=i, batch_size=10, verbose=0)\n",
    "    Y_pred= model.predict(X_test)\n",
    "    Y_pred=Y_pred*100\n",
    "    mse=mean_squared_error(y_test*100, Y_pred)\n",
    "    rmse=mse**(1/2)\n",
    "    if best_rmse>rmse:\n",
    "      best_mse=rmse\n",
    "      Y_pred_best=Y_pred\n",
    "    rmse_array[k]=rmse\n",
    "    epoc[k]=i\n",
    "    k=k+1\n",
    "rmse_array=np.asarray(rmse_array)\n",
    "print(rmse_array)\n",
    "epoc=np.asarray(epoc)\n",
    "best_rmse=min(rmse_array)\n",
    "print(\"Best rmse\",best_rmse)\n",
    "for i in range(0,100):\n",
    "  if best_rmse==rmse_array[i]:\n",
    "    index=i\n",
    "print(\"epoch index\",epoc[index])\n",
    "import matplotlib.pyplot as plt\n",
    "plt.plot(epoc,rmse_array)\n",
    "plt.title('RMSE Vs Epoch')\n",
    "plt.ylabel('RMSE')\n",
    "plt.xlabel('Epoch')\n",
    "plt.show()"
   ]
  },
  {
   "cell_type": "code",
   "execution_count": 0,
   "metadata": {
    "colab": {},
    "colab_type": "code",
    "id": "8-oiPPaSmsSu"
   },
   "outputs": [],
   "source": [
    "# 2 layer \n",
    "# 128 32"
   ]
  },
  {
   "cell_type": "code",
   "execution_count": 0,
   "metadata": {
    "colab": {
     "base_uri": "https://localhost:8080/",
     "height": 618
    },
    "colab_type": "code",
    "id": "5rByn1eOmsQp",
    "outputId": "ed433059-70f5-4079-9bb9-84c20174b815"
   },
   "outputs": [
    {
     "name": "stdout",
     "output_type": "stream",
     "text": [
      "[11.74063985 20.25359548 16.30509081 14.91458481 11.29642848 13.0880376\n",
      " 11.10319637  9.16577066  8.76552006  8.65344046  8.28902062 11.44724067\n",
      "  8.04077203  8.09518834  8.92984083  8.54198156  8.62226101  8.00657851\n",
      "  8.32743517  8.18095349  8.13752916  8.77776287  8.3408964   8.06099961\n",
      "  8.3558409   8.27575689  7.95125503  8.05985103  8.37074313  8.40753786\n",
      "  7.93880604  8.1522786   8.12592284  7.90335159  8.24393485  8.54331031\n",
      "  8.10913405  8.36335334  8.90654492  8.160732    8.00452664  8.48200273\n",
      "  8.18557401  8.63328317  9.37557641  7.95545607  8.09757486  8.98999598\n",
      "  8.40203849  7.9552843   9.58262178  9.22087422  8.79830179  8.22717601\n",
      "  8.07795962  8.39579132  8.35886821  7.98924248  8.31894633  9.43988077\n",
      "  8.61516943  8.00433946  8.11600117  8.47978262  7.92681251  8.3592086\n",
      "  9.59086798  8.68853613  8.02760259  9.997484    8.72045154  8.79960545\n",
      "  8.78941409  8.51504005 12.91440258  8.50764072  9.09781704  9.19643699\n",
      "  8.69602864  8.44767771  8.6613234   9.90280178  8.64448474 11.91125057\n",
      "  9.32688427  9.90029069  8.26741344  8.4470469   9.84331661  8.88483944\n",
      "  8.30676086  8.12690824  9.41283454  9.83223114 10.22997832 12.67491006\n",
      "  9.13088301  8.20589586  8.90008484 10.75494682]\n",
      "Best rmse 7.903351588307156\n",
      "epoch index 330\n"
     ]
    },
    {
     "data": {
      "image/png": "[encoded data removed]",
      "text/plain": [
       "<Figure size 432x288 with 1 Axes>"
      ]
     },
     "metadata": {
      "needs_background": "light",
      "tags": []
     },
     "output_type": "display_data"
    }
   ],
   "source": [
    "k=0\n",
    "best_rmse=100\n",
    "rmse_array=[None]*100\n",
    "epoc=[None]*100\n",
    "for i in range(0,1000,10):\n",
    "    model = Sequential()\n",
    "    model.add(Dense(128, input_dim=7, activation='relu'))\n",
    "    model.add(Dense(32, activation='relu'))\n",
    "    model.add(Dense(1, activation='sigmoid'))\n",
    "    # Compile model\n",
    "    model.compile(loss='binary_crossentropy', optimizer='adam', metrics=['accuracy'])\n",
    "    # Fit the model\n",
    "    model.fit(X_train, y_train, validation_split=0.20, epochs=i, batch_size=10, verbose=0)\n",
    "    Y_pred= model.predict(X_test)\n",
    "    Y_pred=Y_pred*100\n",
    "    mse=mean_squared_error(y_test*100, Y_pred)\n",
    "    rmse=mse**(1/2)\n",
    "    if best_rmse>rmse:\n",
    "      best_mse=rmse\n",
    "      Y_pred_best=Y_pred\n",
    "    rmse_array[k]=rmse\n",
    "    epoc[k]=i\n",
    "    k=k+1\n",
    "rmse_array=np.asarray(rmse_array)\n",
    "print(rmse_array)\n",
    "epoc=np.asarray(epoc)\n",
    "best_rmse=min(rmse_array)\n",
    "print(\"Best rmse\",best_rmse)\n",
    "for i in range(0,100):\n",
    "  if best_rmse==rmse_array[i]:\n",
    "    index=i\n",
    "print(\"epoch index\",epoc[index])\n",
    "import matplotlib.pyplot as plt\n",
    "plt.plot(epoc,rmse_array)\n",
    "plt.title('RMSE Vs Epoch')\n",
    "plt.ylabel('RMSE')\n",
    "plt.xlabel('Epoch')\n",
    "plt.show()"
   ]
  },
  {
   "cell_type": "code",
   "execution_count": 0,
   "metadata": {
    "colab": {},
    "colab_type": "code",
    "id": "CV9RfINKmsN3"
   },
   "outputs": [],
   "source": [
    "# 2 layer \n",
    "# 64 16"
   ]
  },
  {
   "cell_type": "code",
   "execution_count": 0,
   "metadata": {
    "colab": {
     "base_uri": "https://localhost:8080/",
     "height": 907
    },
    "colab_type": "code",
    "id": "CI4xgWCjmsLe",
    "outputId": "7a645e29-3a60-4761-85d9-cffc5801894d"
   },
   "outputs": [
    {
     "name": "stdout",
     "output_type": "stream",
     "text": [
      "[20.8963655  20.0120854  19.34863962 17.04091338 17.2889822  19.6550874\n",
      " 19.99285384 11.93089792 11.94272516  9.69684503  9.42436036 11.06673392\n",
      "  8.412797    8.58240812 11.07520864  8.60417261  9.179707    8.6776618\n",
      "  8.37398694  8.18763971  9.29849332 10.46172917  8.25508022  8.2738078\n",
      "  8.14228973  9.80956273  8.11520184  8.12040345  8.06272753  7.82080242\n",
      "  8.2161478   9.47238077  7.82936335  8.81613307  7.94874569  9.45108195\n",
      "  9.54092068  7.94966549  8.01884388  8.90260522  8.48331617  7.87452155\n",
      "  8.11520208  8.23370038  8.03446491  7.98421301  8.45081547  9.91528821\n",
      "  8.1839775   8.74934262  7.95096807  7.98018056  8.01774091  8.06543498\n",
      "  7.83361521  7.78875626  8.15129151  8.66650689  8.32603564  8.05670714\n",
      "  9.44983438  8.01333557  7.94736931  7.88813957  8.74933613  9.95662573\n",
      "  8.00277451  7.90011223  7.98096993  7.9769502   8.09213296  8.30902205\n",
      "  8.30641503  8.07379094  7.85678982  8.25082804 10.38908473  8.58296253\n",
      "  8.84464346  7.97969046  8.14528179  9.17982366  8.05702476  8.12803109\n",
      "  8.22099402  8.85777554  8.50520285  8.00027664  7.91544864  8.05687766\n",
      "  7.92180772  8.03649176  8.15980548  8.14332441  8.44401861  9.58529137\n",
      "  8.27673014  9.83501096  8.77176147  8.69183959  8.41789522  8.36110775\n",
      "  8.56762491  9.34164648  8.09837647  8.00550838  8.39674534  9.34222412\n",
      "  8.26169936  7.99054889  8.40970281  8.16708693  9.13330407 20.54713126\n",
      "  8.16095226  8.30685272  9.14767413  8.15576661  8.71449035  8.12387472\n",
      " 16.2844135   8.71715507  8.24077658  9.46800133  8.35833849  8.42275313\n",
      "  8.15663082  8.4912188   8.51695622  9.86626142  8.0451872   8.31488146\n",
      "  8.47867609  9.06322796  8.62145437  8.42134013  8.46914092  8.72932436\n",
      "  9.45079868  8.2322524   8.9189291   8.4067822   9.69821233 10.60369421\n",
      "  8.78899415  9.55785792  9.19047184 11.69769416  9.12191418  9.77903269\n",
      "  8.27290704  8.17517311 10.51437782  8.58034409  8.9358939   8.48617119\n",
      "  9.38641001  8.66963498  9.35205058  9.6610151   9.64144833 12.55880018\n",
      "  9.04322467  9.28109746 13.69259685 12.65639133 10.13362945  8.38780306\n",
      " 13.89202923  9.0313449   8.83884722  9.39536467 11.23019371 11.31307419\n",
      "  8.45218224  8.99108559  9.79398792  9.36101003  9.01902256  8.67695946\n",
      " 12.73444921  9.29861125 11.45152117  9.49205146  8.74315452 12.89785714\n",
      "  9.55750934  8.5979857  12.38619096 12.24767744 14.92358933 14.23346481\n",
      " 10.02024141 13.78328927 10.08819959 14.21612424  9.83287111  9.68277265\n",
      " 14.00236766 10.3783624 ]\n",
      "Best rmse 7.788756262121057\n",
      "epoch index 550\n"
     ]
    },
    {
     "data": {
      "image/png": "[encoded data removed]",
      "text/plain": [
       "<Figure size 432x288 with 1 Axes>"
      ]
     },
     "metadata": {
      "needs_background": "light",
      "tags": []
     },
     "output_type": "display_data"
    }
   ],
   "source": [
    "k=0\n",
    "best_rmse=100\n",
    "rmse_array=[None]*200\n",
    "epoc=[None]*200\n",
    "for i in range(0,2000,10):\n",
    "    model = Sequential()\n",
    "    model.add(Dense(64, input_dim=7, activation='relu'))\n",
    "    model.add(Dense(16, activation='relu'))\n",
    "    model.add(Dense(1, activation='sigmoid'))\n",
    "    # Compile model\n",
    "    model.compile(loss='binary_crossentropy', optimizer='adam', metrics=['accuracy'])\n",
    "    # Fit the model\n",
    "    model.fit(X_train, y_train, validation_split=0.20, epochs=i, batch_size=10, verbose=0)\n",
    "    Y_pred= model.predict(X_test)\n",
    "    Y_pred=Y_pred*100\n",
    "    mse=mean_squared_error(y_test*100, Y_pred)\n",
    "    rmse=mse**(1/2)\n",
    "    if best_rmse>rmse:\n",
    "      best_mse=rmse\n",
    "      Y_pred_best=Y_pred\n",
    "    rmse_array[k]=rmse\n",
    "    epoc[k]=i\n",
    "    k=k+1\n",
    "rmse_array=np.asarray(rmse_array)\n",
    "print(rmse_array)\n",
    "epoc=np.asarray(epoc)\n",
    "best_rmse=min(rmse_array)\n",
    "print(\"Best rmse\",best_rmse)\n",
    "for i in range(0,200):\n",
    "  if best_rmse==rmse_array[i]:\n",
    "    index=i\n",
    "print(\"epoch index\",epoc[index])\n",
    "import matplotlib.pyplot as plt\n",
    "plt.plot(epoc,rmse_array)\n",
    "plt.title('RMSE Vs Epoch')\n",
    "plt.ylabel('RMSE')\n",
    "plt.xlabel('Epoch')\n",
    "plt.show()"
   ]
  },
  {
   "cell_type": "code",
   "execution_count": 0,
   "metadata": {
    "colab": {},
    "colab_type": "code",
    "id": "BSyjB7F9PLXA"
   },
   "outputs": [],
   "source": [
    "# 2 layer \n",
    "# 64 8"
   ]
  },
  {
   "cell_type": "code",
   "execution_count": 0,
   "metadata": {
    "colab": {
     "base_uri": "https://localhost:8080/",
     "height": 907
    },
    "colab_type": "code",
    "id": "7ri5xKBSLNKb",
    "outputId": "f240f9bf-6d81-4a21-e701-08188900757a"
   },
   "outputs": [
    {
     "name": "stdout",
     "output_type": "stream",
     "text": [
      "[28.29832737 18.7742578  19.27830734 18.33824439 14.92878962 15.34311565\n",
      " 14.02577787 10.16076176 12.4851883   9.6765897   8.85549378 10.66675229\n",
      "  8.41380145  8.70377514  8.74556707  9.94738112  7.81291306  9.84804187\n",
      "  8.45344383  8.99774315  7.95853552  8.02535111  7.95204058  8.38066915\n",
      "  8.199998    9.68074616  8.1555657   8.30836884  8.1078244   7.96207625\n",
      "  8.01903678  7.99193029  7.80700252  8.29292266  8.15810517  9.38673214\n",
      "  8.13631418  8.19807149  8.01166508  7.99703363  8.0289101   8.17794337\n",
      "  8.7270396   8.57114705  7.97877119  8.06581787  7.92182314  8.85865106\n",
      "  9.18130709  8.50072722  7.99183047  9.553082    8.26751061  7.90523802\n",
      "  7.91079428  7.96727488  8.0067141   8.83689948  8.01653623  7.9825818\n",
      "  8.34404901  9.4983968   8.09709571  8.56283854  7.92189002  7.92192037\n",
      "  7.90694342  8.01459584  8.26713344  8.08675042  8.91858185  7.90052346\n",
      "  8.13564795  8.12219053  8.05273918  8.15133867  8.08797124  9.57042108\n",
      "  8.81909784  9.9899225   8.15533075  8.50718075  8.41054395  8.78244015\n",
      "  8.02449683  8.64204231  9.21533938  8.18097891  8.3799918   8.26389749\n",
      "  8.33307458  8.27788783  8.55496301  9.09708056  8.15499298  8.09808682\n",
      " 11.22068826  8.43552047  8.84661135  9.63659424  8.17817849  8.46909738\n",
      "  8.07447098  9.14301348  8.20566185  8.01229788  8.35268857  9.84814918\n",
      "  9.29822162  8.23534031  9.24960027  7.92265325  8.01316688  8.37027586\n",
      "  8.21078504 10.14860382  8.1230071  11.30840062 11.82289711  8.4697888\n",
      " 10.87986443  8.32969513  9.00898392  8.34749418  9.48450898  8.79618405\n",
      "  9.81346955  8.0386493   8.52324422  8.41195626  8.21268443  9.17435856\n",
      " 10.68297333  8.73616948  8.89601949 10.43466206  9.60253169  8.2303801\n",
      "  8.67676858  9.15097769  8.81000557  8.34664545  8.38071073 10.44323303\n",
      " 10.6368358   8.62371391  9.02052381 11.22506576 10.21127279  9.23517688\n",
      "  9.27314393 13.05199131  9.64512941 13.30296045  9.07734374  9.27014758\n",
      "  9.02471139 10.03809491 10.35982892  8.09594285 10.69882773 11.31713924\n",
      "  8.87321232  8.64093234 11.94607916 10.6651451  13.11056844  9.26472553\n",
      "  9.72343517 16.98019926 10.31775453  8.94081931 13.44796379 16.21319015\n",
      "  9.54042357 12.16642938 16.00656891 10.55177015 10.48418355 10.65409116\n",
      "  8.88619056 10.5029992  11.50293426 12.69622219  8.59389648 13.89857401\n",
      " 14.37746021  8.87518815  8.90518585 10.00102333 14.31446209 12.67219467\n",
      " 10.79127764 18.66330165 11.86641669  8.85613433  8.93458461 16.40315918\n",
      "  9.24553343 11.02364408]\n",
      "Best rmse 7.807002521386119\n",
      "epoch index 320\n"
     ]
    },
    {
     "data": {
      "image/png": "[encoded data removed]",
      "text/plain": [
       "<Figure size 432x288 with 1 Axes>"
      ]
     },
     "metadata": {
      "needs_background": "light",
      "tags": []
     },
     "output_type": "display_data"
    }
   ],
   "source": [
    "k=0\n",
    "best_rmse=100\n",
    "rmse_array=[None]*200\n",
    "epoc=[None]*200\n",
    "for i in range(0,2000,10):\n",
    "    model = Sequential()\n",
    "    model.add(Dense(64, input_dim=7, activation='relu'))\n",
    "    model.add(Dense(16, activation='relu'))\n",
    "    model.add(Dense(1, activation='sigmoid'))\n",
    "    # Compile model\n",
    "    model.compile(loss='binary_crossentropy', optimizer='adam', metrics=['accuracy'])\n",
    "    # Fit the model\n",
    "    model.fit(X_train, y_train, validation_split=0.20, epochs=i, batch_size=10, verbose=0)\n",
    "    Y_pred= model.predict(X_test)\n",
    "    Y_pred=Y_pred*100\n",
    "    mse=mean_squared_error(y_test*100, Y_pred)\n",
    "    rmse=mse**(1/2)\n",
    "    if best_rmse>rmse:\n",
    "      best_mse=rmse\n",
    "      Y_pred_best=Y_pred\n",
    "    rmse_array[k]=rmse\n",
    "    epoc[k]=i\n",
    "    k=k+1\n",
    "rmse_array=np.asarray(rmse_array)\n",
    "print(rmse_array)\n",
    "epoc=np.asarray(epoc)\n",
    "best_rmse=min(rmse_array)\n",
    "print(\"Best rmse\",best_rmse)\n",
    "for i in range(0,200):\n",
    "  if best_rmse==rmse_array[i]:\n",
    "    index=i\n",
    "print(\"epoch index\",epoc[index])\n",
    "import matplotlib.pyplot as plt\n",
    "# 2 layer \n",
    "# 64 16lt\n",
    "plt.plot(epoc,rmse_array)\n",
    "plt.title('RMSE Vs Epoch')\n",
    "plt.ylabel('RMSE')\n",
    "plt.xlabel('Epoch')\n",
    "plt.show()"
   ]
  },
  {
   "cell_type": "code",
   "execution_count": 0,
   "metadata": {
    "colab": {},
    "colab_type": "code",
    "id": "OqmUKlj9LNGM"
   },
   "outputs": [],
   "source": [
    "# 2 layer\n",
    "# 64 64"
   ]
  },
  {
   "cell_type": "code",
   "execution_count": 0,
   "metadata": {
    "colab": {
     "base_uri": "https://localhost:8080/",
     "height": 907
    },
    "colab_type": "code",
    "id": "Xzhtl-2JVJ-B",
    "outputId": "5519bfa1-29e0-4052-e6ce-f257b7d5bc1a"
   },
   "outputs": [
    {
     "name": "stdout",
     "output_type": "stream",
     "text": [
      "[33.13075296 21.21660438 19.05620133 12.71633334 16.39447194 10.48008928\n",
      "  9.2148091  16.55303865 11.06744644 12.93299256 10.0486206   8.89126843\n",
      "  8.23199129  8.19109265  8.110437    9.25293389  8.23563921  8.33740125\n",
      "  8.67888838  8.04589988  8.5968825   7.96213728  8.61407437  7.89791057\n",
      "  7.95427609  8.07180068  8.10995923  8.09080115  8.11613498  7.9846424\n",
      "  8.50980242  8.3367323   8.05104923  8.46759078  7.9435465   8.98285815\n",
      "  8.17071807  8.564355    8.14641964  8.09208913  7.9592177   8.07416376\n",
      "  8.10213066  7.92174886  8.07749449  8.05567591  7.92859445  8.72524699\n",
      "  8.21148069  7.90967206  9.45180034  8.10497997  8.10027449  8.35841681\n",
      "  8.67149044  8.30444601  8.30047546  8.38922458  8.69299196  8.7002957\n",
      "  8.77111121  8.47996458  8.35096211  8.61332582  8.22375622  8.28868445\n",
      " 11.2075374   8.3045612   8.54003148  8.07302425  8.1808548   9.19441422\n",
      "  8.57973614  8.10714963  9.8503062   9.61853192  9.36451257 10.49922505\n",
      "  7.97188709  9.26264099  8.72556887  9.93214972  8.2172833   9.1058584\n",
      "  8.30643429  9.35916769  8.29470811  8.46843326  8.75070906  8.27002658\n",
      "  9.24771052 10.04887094  9.38776778 13.78036507 11.61399612 12.36903074\n",
      "  8.41840856 10.38512525 15.00645913 11.07999533 10.8152525  10.33544901\n",
      " 10.6782416   9.31905423  8.52723418  8.94214633 13.39044638 13.02235057\n",
      " 14.84619048 14.39550578  8.87058568 10.50541758 15.14114609  8.9376606\n",
      " 18.91380776  8.99227114  9.68172307  9.1331213  15.89540783 15.12696791\n",
      "  8.82554643 17.78562722 11.06056384 13.75644812 11.55611817 11.64169198\n",
      " 14.72158751 19.61569612 12.77788025 11.31932859 16.68224985 16.19575771\n",
      " 22.14782792 17.11934737 14.19326378  9.03656658 16.6714277  14.34379927\n",
      " 15.11657692 12.41269306  9.48079479 15.39845008 16.33158264 14.71021993\n",
      "  9.4983793  11.5247779  13.17610643 12.82994703 14.51318563 18.9542383\n",
      " 18.57725009 15.27030121 18.02315725 13.22676173 13.4156621  17.71953045\n",
      " 10.65295086 16.33421039 19.0261602  12.05185848 17.69739672 19.85355409\n",
      " 10.80524444 17.43142918 20.62805466 18.31085071 12.89209544 18.02003096\n",
      " 16.79924357 22.55965952 17.6561477  22.5594571  15.67287458 14.59624137\n",
      " 11.42057859 16.91753266 16.88663156 19.89773971 13.68347122 15.19517139\n",
      " 21.80002917 26.02245446 20.17367308 19.93091722 18.5659037  18.86527094\n",
      " 20.88077495 21.05842191 20.76957936 11.2035491  11.89360358 23.20645373\n",
      " 23.75990714 11.33076204 25.50705075 24.01765672 23.70935017 25.09172196\n",
      " 25.02837161 22.24483378]\n",
      "Best rmse 7.897910565974853\n",
      "epoch index 230\n"
     ]
    },
    {
     "data": {
      "image/png": "[encoded data removed]",
      "text/plain": [
       "<Figure size 432x288 with 1 Axes>"
      ]
     },
     "metadata": {
      "needs_background": "light",
      "tags": []
     },
     "output_type": "display_data"
    }
   ],
   "source": [
    "k=0\n",
    "best_rmse=100\n",
    "rmse_array=[None]*200\n",
    "epoc=[None]*200\n",
    "for i in range(0,2000,10):\n",
    "    model = Sequential()\n",
    "    model.add(Dense(64, input_dim=7, activation='relu'))\n",
    "    model.add(Dense(64, activation='relu'))\n",
    "    model.add(Dense(1, activation='sigmoid'))\n",
    "    # Compile model\n",
    "    model.compile(loss='binary_crossentropy', optimizer='adam', metrics=['accuracy'])\n",
    "    # Fit the model\n",
    "    model.fit(X_train, y_train, validation_split=0.20, epochs=i, batch_size=10, verbose=0)\n",
    "    Y_pred= model.predict(X_test)\n",
    "    Y_pred=Y_pred*100\n",
    "    mse=mean_squared_error(y_test*100, Y_pred)\n",
    "    rmse=mse**(1/2)\n",
    "    if best_rmse>rmse:\n",
    "      best_mse=rmse\n",
    "      Y_pred_best=Y_pred\n",
    "    rmse_array[k]=rmse\n",
    "    epoc[k]=i\n",
    "    k=k+1\n",
    "rmse_array=np.asarray(rmse_array)\n",
    "print(rmse_array)\n",
    "epoc=np.asarray(epoc)\n",
    "best_rmse=min(rmse_array)\n",
    "print(\"Best rmse\",best_rmse)\n",
    "for i in range(0,200):\n",
    "  if best_rmse==rmse_array[i]:\n",
    "    index=i\n",
    "print(\"epoch index\",epoc[index])\n",
    "import matplotlib.pyplot as plt\n",
    "# 2 layer \n",
    "# 64 16lt\n",
    "plt.plot(epoc,rmse_array)\n",
    "plt.title('RMSE Vs Epoch')\n",
    "plt.ylabel('RMSE')\n",
    "plt.xlabel('Epoch')\n",
    "plt.show()"
   ]
  },
  {
   "cell_type": "code",
   "execution_count": 0,
   "metadata": {
    "colab": {},
    "colab_type": "code",
    "id": "qfSIsjo0VJ8V"
   },
   "outputs": [],
   "source": [
    "# 2 layer\n",
    "# 16 8"
   ]
  },
  {
   "cell_type": "code",
   "execution_count": 0,
   "metadata": {
    "colab": {
     "base_uri": "https://localhost:8080/",
     "height": 907
    },
    "colab_type": "code",
    "id": "H61_XwGlVJ5a",
    "outputId": "f7e14441-b65f-4725-ffc0-4ec5acb5f069"
   },
   "outputs": [
    {
     "name": "stdout",
     "output_type": "stream",
     "text": [
      "[24.82228605 19.75400375 19.03037697 18.87356455 20.06642715 17.37055172\n",
      " 18.03090606 18.38336492 17.6462288  16.57666584 19.83448702 20.59048419\n",
      " 20.69736993 17.89013207 11.19825706 11.07990731  9.13809095 10.26988544\n",
      "  8.60187348  9.32634377  8.67936561 10.65185652  9.19237306  8.44585193\n",
      "  8.71868644  9.58549742 20.51295809 10.44378989  8.90484983  8.25071872\n",
      "  8.27366743  9.15603519  8.16693873 20.47319933  8.28060149  8.4591073\n",
      "  7.97063466  8.70086187  9.20981693  8.58229165  8.61005002  8.72204528\n",
      "  9.42164762  8.07813789  7.94314412  7.85851836  7.99154824  9.20147482\n",
      "  8.20785044  8.79351348  8.04489551  9.02743095  8.11329822  8.02695694\n",
      "  8.38145274  9.8941056   7.92080221  8.340237    8.22456146  9.45906031\n",
      "  8.03152799  8.17120444  8.43615202  7.76579384  7.92357414  8.03038269\n",
      "  8.04507242  8.29066688  8.58742003  8.69001386  9.8745168   7.94787612\n",
      "  8.39379615  8.06631426  8.49716939  9.76926328  8.11745808  8.59790414\n",
      "  8.51113803  8.20200943  7.9098232   8.3011557   8.11108404  8.1044952\n",
      "  8.21899649  8.14809151  8.17239494  8.2146544   8.64119728  8.99471901\n",
      "  8.91802426  8.20317636  8.43453503  8.08337785 10.22763884  8.05249908\n",
      "  8.8630408   8.12811724  8.71703747  8.21813592  8.48800112  8.04726473\n",
      "  7.93387948  8.56866674  9.11458462  8.04214596  8.25185119  8.59673936\n",
      " 20.35058959  8.40271979  8.46931202  8.66705949  7.99070612  8.728885\n",
      "  9.6415192   8.04137324  7.88831292  7.85531293  8.28282355  7.8154202\n",
      "  8.89356602  7.76143943  7.74089738  7.81582785  8.4107375   8.40647353\n",
      "  8.5870704  10.52317344  7.96233574  8.45848113  8.60453237  8.30953328\n",
      " 10.02841572  8.27409587  9.33030491  8.0636274  12.41485829  8.0835573\n",
      "  8.02164158  7.94350913 10.06278576  8.01345207  8.51667862  8.56128349\n",
      " 10.11815923  7.90981635 10.80332728  8.01191861  8.0245688  10.04039008\n",
      "  8.86449527  8.90328498  7.88971185  7.76275487  7.94676973 20.36729756\n",
      "  8.2692445   8.05083537 20.46514706 10.19108525  9.20120251 14.40796796\n",
      " 10.60577642  8.02173582 10.51515732 20.39921539 11.70937146  8.24316989\n",
      "  7.94436841  8.33610177  8.3231275   7.82238482  7.83658665  8.11661017\n",
      "  8.65050107  9.26855455  8.06733431  8.55891405  7.83062332 20.64061568\n",
      "  8.5247336   8.24823259  7.8249607  10.58853389  9.4434272   8.22888253\n",
      "  7.96674467  8.74565996  8.38151005  8.37814025  8.13538456  8.85211555\n",
      "  8.14480574  8.79870364  9.16685799 14.19930734  8.78822934 10.91637298\n",
      "  8.86441632  8.85480187]\n",
      "Best rmse 7.74089738295419\n",
      "epoch index 1220\n"
     ]
    },
    {
     "data": {
      "image/png": "[encoded data removed]",
      "text/plain": [
       "<Figure size 432x288 with 1 Axes>"
      ]
     },
     "metadata": {
      "needs_background": "light",
      "tags": []
     },
     "output_type": "display_data"
    }
   ],
   "source": [
    "k=0\n",
    "best_rmse=100\n",
    "rmse_array=[None]*200\n",
    "epoc=[None]*200\n",
    "for i in range(0,2000,10):\n",
    "    model = Sequential()\n",
    "    model.add(Dense(16, input_dim=7, activation='relu'))\n",
    "    model.add(Dense(8, activation='relu'))\n",
    "    model.add(Dense(1, activation='sigmoid'))\n",
    "    # Compile model\n",
    "    model.compile(loss='binary_crossentropy', optimizer='adam', metrics=['accuracy'])\n",
    "    # Fit the model\n",
    "    model.fit(X_train, y_train, validation_split=0.20, epochs=i, batch_size=10, verbose=0)\n",
    "    Y_pred= model.predict(X_test)\n",
    "    Y_pred=Y_pred*100\n",
    "    mse=mean_squared_error(y_test*100, Y_pred)\n",
    "    rmse=mse**(1/2)\n",
    "    if best_rmse>rmse:\n",
    "      best_mse=rmse\n",
    "      Y_pred_best=Y_pred\n",
    "    rmse_array[k]=rmse\n",
    "    epoc[k]=i\n",
    "    k=k+1\n",
    "rmse_array=np.asarray(rmse_array)\n",
    "print(rmse_array)\n",
    "epoc=np.asarray(epoc)\n",
    "best_rmse=min(rmse_array)\n",
    "print(\"Best rmse\",best_rmse)\n",
    "for i in range(0,200):\n",
    "  if best_rmse==rmse_array[i]:\n",
    "    index=i\n",
    "print(\"epoch index\",epoc[index])\n",
    "import matplotlib.pyplot as plt\n",
    "plt.plot(epoc,rmse_array)\n",
    "plt.title('RMSE Vs Epoch')\n",
    "plt.ylabel('RMSE')\n",
    "plt.xlabel('Epoch')\n",
    "plt.show()"
   ]
  },
  {
   "cell_type": "code",
   "execution_count": 0,
   "metadata": {
    "colab": {},
    "colab_type": "code",
    "id": "FnedAfUTVJ2S"
   },
   "outputs": [],
   "source": [
    "# 2 layer\n",
    "8 4"
   ]
  },
  {
   "cell_type": "code",
   "execution_count": 0,
   "metadata": {
    "colab": {
     "base_uri": "https://localhost:8080/",
     "height": 907
    },
    "colab_type": "code",
    "id": "bsVTfiE5VJyv",
    "outputId": "5312b636-82a3-4c8f-cfcd-d8f214aa9725"
   },
   "outputs": [
    {
     "name": "stdout",
     "output_type": "stream",
     "text": [
      "[27.8680474  22.96974734 21.39511408 19.40329387 19.83850877 19.59606315\n",
      " 18.58761265 19.73371022 20.73885264 19.5909214  20.15054074 17.87273728\n",
      " 18.9834424  18.25025417 18.11396677 17.27448718 17.2050672  20.54521498\n",
      " 15.58160972  9.1754232   9.12065602 11.54558353 16.56762378 18.45199438\n",
      "  8.96249392 19.88694639 12.61445631  9.79808676 20.37759146 12.73002686\n",
      " 10.81327617 13.47445128 11.6124782  10.91389901  9.56338257 16.87724825\n",
      "  8.14101329 20.53065493 20.47814782  9.30810928  9.21166395 10.45867396\n",
      "  8.975254    9.92495456  9.05587639  8.55489447 18.77766635  8.42633064\n",
      " 20.52581679  9.59156368  8.54118092  8.31504308 12.03068062  8.3192116\n",
      "  7.93748938  9.15777011 20.41265928  8.70672121  9.76491477  8.49919917\n",
      "  8.74552251  8.2352986   8.33423251  8.15092698  8.04241088  8.41676282\n",
      "  8.24267771 20.4661594   8.85495789  9.62192776  9.22109749  9.51415111\n",
      " 16.79404923  8.00161881  9.66496895  8.56449917  8.06778527  7.82516276\n",
      "  7.99542147  8.38227641  8.1654042   8.10371672 20.64349904 20.41131946\n",
      "  8.46428856  8.16493374 20.48537337  8.53017652  8.73570767  8.62322985\n",
      "  8.49400613  8.55377776  9.2489262   9.68216634 10.12266875 20.41540934\n",
      "  7.85024989  8.14130883  8.454462    8.46289865  8.4599842   8.76023954\n",
      "  8.54614452  8.35282639  8.72008569  8.36266774 20.46289111  8.19205098\n",
      "  8.18093554  8.08623976  8.59651618  8.57227438  8.0123592   8.72203814\n",
      "  8.00736875  8.81444762  8.36121744  8.12662778 20.44355603  8.25468028\n",
      "  8.18459855  9.25062175  8.04071264  8.20704685  8.39523164  8.64245252\n",
      "  7.99753084  7.83044925  7.96207575  9.13299665  8.26528128  8.26006321\n",
      "  8.46124297  8.93057647  7.85161719  8.66634205  9.29238814  8.47002097\n",
      "  8.66487544  8.05595857 10.22265477  8.24777246  8.28938365  7.97545721\n",
      " 20.40481167 10.07154631  9.45486812  7.84443682  8.39149113  8.72524425\n",
      "  8.8415268   7.81995716  8.00158283  8.55679501  8.85509179  7.98331411\n",
      "  8.03408951  8.20773592  8.89131702  7.96804636  8.321085    7.72856283\n",
      "  8.30190418  8.78210151  8.30723901 20.29596264  8.10634206  9.76287147\n",
      "  8.16965245  8.08611099  8.08697215  8.48398765 10.22640219  8.50411864\n",
      "  7.89127538  8.14934854  8.07499173  8.95340976  8.41157627  8.25441117\n",
      "  8.56726321  8.71181213 10.30764267  8.91301815 20.4588487  20.61098569\n",
      "  8.10603764  8.08546291  8.02907356  8.17635528  8.19097895  9.03765565\n",
      "  7.78106587  7.91685943 20.35522805  7.90822301  8.03170254  8.16313874\n",
      "  8.63373744  7.81518032]\n",
      "Best rmse 7.72856283326038\n",
      "epoch index 1610\n"
     ]
    },
    {
     "data": {
      "image/png": "[encoded data removed]",
      "text/plain": [
       "<Figure size 432x288 with 1 Axes>"
      ]
     },
     "metadata": {
      "needs_background": "light",
      "tags": []
     },
     "output_type": "display_data"
    }
   ],
   "source": [
    "k=0\n",
    "best_rmse=100\n",
    "rmse_array=[None]*200\n",
    "epoc=[None]*200\n",
    "for i in range(0,2000,10):\n",
    "    model = Sequential()\n",
    "    model.add(Dense(8, input_dim=7, activation='relu'))\n",
    "    model.add(Dense(4, activation='relu'))\n",
    "    model.add(Dense(1, activation='sigmoid'))\n",
    "    # Compile model\n",
    "    model.compile(loss='binary_crossentropy', optimizer='adam', metrics=['accuracy'])\n",
    "    # Fit the model\n",
    "    model.fit(X_train, y_train, validation_split=0.20, epochs=i, batch_size=10, verbose=0)\n",
    "    Y_pred= model.predict(X_test)\n",
    "    Y_pred=Y_pred*100\n",
    "    mse=mean_squared_error(y_test*100, Y_pred)\n",
    "    rmse=mse**(1/2)\n",
    "    if best_rmse>rmse:\n",
    "      best_mse=rmse\n",
    "      Y_pred_best=Y_pred\n",
    "    rmse_array[k]=rmse\n",
    "    epoc[k]=i\n",
    "    k=k+1\n",
    "rmse_array=np.asarray(rmse_array)\n",
    "print(rmse_array)\n",
    "epoc=np.asarray(epoc)\n",
    "best_rmse=min(rmse_array)\n",
    "print(\"Best rmse\",best_rmse)\n",
    "for i in range(0,200):\n",
    "  if best_rmse==rmse_array[i]:\n",
    "    index=i\n",
    "print(\"epoch index\",epoc[index])\n",
    "import matplotlib.pyplot as plt\n",
    "plt.plot(epoc,rmse_array)\n",
    "plt.title('RMSE Vs Epoch')\n",
    "plt.ylabel('RMSE')\n",
    "plt.xlabel('Epoch')\n",
    "plt.show()"
   ]
  },
  {
   "cell_type": "markdown",
   "metadata": {
    "colab_type": "text",
    "id": "_uAtAZguJZ23"
   },
   "source": [
    "# THUS, MINIMUM DEVIATION OBTAINED IS 7.7285"
   ]
  },
  {
   "cell_type": "code",
   "execution_count": null,
   "metadata": {},
   "outputs": [],
   "source": []
  }
 ],
 "metadata": {
  "colab": {
   "collapsed_sections": [],
   "name": "NEURAL_NETWORK_FINAL_colab (copy).ipynb",
   "provenance": []
  },
  "kernelspec": {
   "display_name": "Python 3",
   "language": "python",
   "name": "python3"
  },
  "language_info": {
   "codemirror_mode": {
    "name": "ipython",
    "version": 3
   },
   "file_extension": ".py",
   "mimetype": "text/x-python",
   "name": "python",
   "nbconvert_exporter": "python",
   "pygments_lexer": "ipython3",
   "version": "3.7.6"
  }
 },
 "nbformat": 4,
 "nbformat_minor": 1
}
